{
  "nbformat": 4,
  "nbformat_minor": 0,
  "metadata": {
    "colab": {
      "provenance": []
    },
    "kernelspec": {
      "name": "python3",
      "display_name": "Python 3"
    },
    "language_info": {
      "name": "python"
    }
  },
  "cells": [
    {
      "cell_type": "markdown",
      "source": [
        "## **Ejercicios Planteados**"
      ],
      "metadata": {
        "id": "5jV_y10JNS5B"
      }
    },
    {
      "cell_type": "markdown",
      "source": [
        "Caso 1:\n",
        "\n",
        "Muestreo estratificado con afijación proporcional\n",
        "\n",
        "Se desea tomar una muestra aleatoria estratificada de las personas mayores de edad de un municipio, cuyos estratos son los siguientes intervalos de edades, en años: de 18 a 30, de 31 a 45, de 46 a 60 y mayores de 60. En el primer intervalo hay 7500 personas, en el segundo hay 8400, en el tercero 5700 y en el cuarto 3000.\n",
        "\n",
        "Calcule el tamaño de la muestra total y su composición, sabiendo que el muestreo se hace con afijación proporcional y se han elegido al azar 375 personas del primer estrato."
      ],
      "metadata": {
        "id": "XqRNHMjPLrg9"
      }
    },
    {
      "cell_type": "code",
      "source": [
        "# Población en cada estrato\n",
        "estratos = {\n",
        "    '18-30': 7500,\n",
        "    '31-45': 8400,\n",
        "    '46-60': 5700,\n",
        "    '60+': 3000\n",
        "}\n",
        "\n",
        "# Personas seleccionadas aleatoriamente en el primer estrato\n",
        "seleccionadas_primer_estrato = 375\n",
        "\n",
        "# Calculamos la proporción de personas seleccionadas aleatoriamente en el primer estrato\n",
        "proporcion_primer_estrato = seleccionadas_primer_estrato / estratos['18-30']\n",
        "\n",
        "# Calculamos el tamaño de muestra en cada estrato\n",
        "tamanos_muestra_estrato = {}\n",
        "for estrato, poblacion in estratos.items():\n",
        "    tamanos_muestra_estrato[estrato] = poblacion * proporcion_primer_estrato\n",
        "\n",
        "# Calculamos el tamaño total de la muestra\n",
        "tamano_total_muestra = sum(tamanos_muestra_estrato.values())\n",
        "\n",
        "# Mostramos los resultados\n",
        "print(\"Tamaño de la muestra en cada estrato:\")\n",
        "for estrato, tamano in tamanos_muestra_estrato.items():\n",
        "    print(f\"{estrato}: {tamano}\")\n",
        "\n",
        "print(\"\\nTamaño total de la muestra:\", tamano_total_muestra)\n"
      ],
      "metadata": {
        "colab": {
          "base_uri": "https://localhost:8080/"
        },
        "id": "M-rPw2GnMUs6",
        "outputId": "41739d35-dc0a-4a4a-a9b5-b59b49ab7a94"
      },
      "execution_count": 8,
      "outputs": [
        {
          "output_type": "stream",
          "name": "stdout",
          "text": [
            "Tamaño de la muestra en cada estrato:\n",
            "18-30: 375.0\n",
            "31-45: 420.0\n",
            "46-60: 285.0\n",
            "60+: 150.0\n",
            "\n",
            "Tamaño total de la muestra: 1230.0\n"
          ]
        }
      ]
    },
    {
      "cell_type": "markdown",
      "source": [
        "Caso 2\n",
        "\n",
        "En un instituto hay 110 alumnos de 1º ESO, 99 de 2º ESO, 77 de 3º ESO y 66 de 4º ESO. Se toma una muestra para hacer una encuesta, usando muestreo estratificado con afijación proporcional. Se sabe que en la muestra había 20 alumnos de 1º ESO. ¿Cuántos alumnos hay en la muestra de los demás cursos y cuál es el tamaño de la muestra?"
      ],
      "metadata": {
        "id": "vOkawAkzMZmM"
      }
    },
    {
      "cell_type": "code",
      "source": [
        "# Alumnos en cada curso\n",
        "alumnos_por_curso = {\n",
        "    '1º ESO': 110,\n",
        "    '2º ESO': 99,\n",
        "    '3º ESO': 77,\n",
        "    '4º ESO': 66\n",
        "}\n",
        "\n",
        "# Alumnos seleccionados aleatoriamente de 1º ESO\n",
        "seleccionados_1_eso = 20\n",
        "\n",
        "# Calcular la proporción de alumnos seleccionados de 1º ESO\n",
        "proporcion_1_eso = seleccionados_1_eso / alumnos_por_curso['1º ESO']\n",
        "\n",
        "# Calcular el tamaño de muestra en 1º ESO\n",
        "tamano_muestra_1_eso = seleccionados_1_eso\n",
        "\n",
        "# Calcular el tamaño de muestra en los demás cursos\n",
        "tamanos_muestra_otros_cursos = {}\n",
        "for curso, alumnos in alumnos_por_curso.items():\n",
        "    if curso != '1º ESO':\n",
        "        tamanos_muestra_otros_cursos[curso] = proporcion_1_eso * alumnos\n",
        "\n",
        "# Calcular el tamaño total de la muestra\n",
        "tamano_total_muestra = tamano_muestra_1_eso + sum(tamanos_muestra_otros_cursos.values())\n",
        "\n",
        "# Mostrar resultados\n",
        "print(\"Tamaño de la muestra en cada curso:\")\n",
        "print(f\"1º ESO: {tamano_muestra_1_eso}\")\n",
        "for curso, tamano in tamanos_muestra_otros_cursos.items():\n",
        "    print(f\"{curso}: {tamano}\")\n",
        "\n",
        "print(\"\\nTamaño total de la muestra:\", tamano_total_muestra)"
      ],
      "metadata": {
        "colab": {
          "base_uri": "https://localhost:8080/"
        },
        "id": "9g3LBkQeMZzZ",
        "outputId": "2ebb4c1c-97a7-4fd5-f717-45328d4a26ef"
      },
      "execution_count": 9,
      "outputs": [
        {
          "output_type": "stream",
          "name": "stdout",
          "text": [
            "Tamaño de la muestra en cada curso:\n",
            "1º ESO: 20\n",
            "2º ESO: 18.0\n",
            "3º ESO: 14.0\n",
            "4º ESO: 12.0\n",
            "\n",
            "Tamaño total de la muestra: 64.0\n"
          ]
        }
      ]
    },
    {
      "cell_type": "markdown",
      "source": [
        "Caso 3\n",
        "\n",
        "Si el contenido en gr. de un determinado medicamento X sigue una distribución N(7.5,0.3), calcular la probabilidad de que para una muestra de tamaño n=5, se obtenga medio menor que 7, Pr ( X ≤ 7)."
      ],
      "metadata": {
        "id": "X_LMl_zPMvqs"
      }
    },
    {
      "cell_type": "code",
      "source": [
        "import scipy.stats as ss\n",
        "import math\n",
        "\n",
        "# Parámetros de la población\n",
        "mu = 7.5\n",
        "sigma = 0.3\n",
        "\n",
        "# Tamaño de la muestra\n",
        "n = 5\n",
        "\n",
        "# Parámetros de la media de la muestra\n",
        "mu_muestra = mu\n",
        "sigma_muestra = sigma / math.sqrt(n)\n",
        "\n",
        "# Crear una distribución normal para la media de la muestra\n",
        "X = ss.norm(mu_muestra, sigma_muestra)\n",
        "\n",
        "# Calcular la probabilidad de que la media de la muestra sea menor o igual a 7\n",
        "probabilidad = X.cdf(7)\n",
        "\n",
        "print(f'La probabilidad de que la media de la muestra sea menor o igual a 7 es {probabilidad:.10f}.')"
      ],
      "metadata": {
        "colab": {
          "base_uri": "https://localhost:8080/"
        },
        "id": "nMFTpRPsQbjO",
        "outputId": "956c6156-4c36-40b7-9bad-a3f35c04d3cd"
      },
      "execution_count": 12,
      "outputs": [
        {
          "output_type": "stream",
          "name": "stdout",
          "text": [
            "La probabilidad de que la media de la muestra sea menor o igual a 7 es 0.0000969708.\n"
          ]
        }
      ]
    }
  ]
}