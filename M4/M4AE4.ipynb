{
  "nbformat": 4,
  "nbformat_minor": 0,
  "metadata": {
    "colab": {
      "provenance": []
    },
    "kernelspec": {
      "name": "python3",
      "display_name": "Python 3"
    },
    "language_info": {
      "name": "python"
    }
  },
  "cells": [
    {
      "cell_type": "markdown",
      "source": [
        "## **Ejercicios Planteados**"
      ],
      "metadata": {
        "id": "6R6mvOZSTM0v"
      }
    },
    {
      "cell_type": "markdown",
      "source": [
        "Caso 1\n",
        "\n",
        "Para estimar la proporción de habitantes de una ciudad que poseen ordenador personal se toma una muestra de tamaño n. Calcula el valor mínimo de n para garantizar, con un nivel de confianza del 95 %, que el error de estimación no supera el 2 %. (Como se desconoce la proporción, se hará a partir del caso más desfavorable, que será 0,5)."
      ],
      "metadata": {
        "id": "rvQrNoyHTWCT"
      }
    },
    {
      "cell_type": "code",
      "source": [
        "import scipy.stats as stats\n",
        "import numpy as np\n",
        "from statistics import variance\n",
        "import math\n",
        "\n",
        "# Valores dados\n",
        "Z = 1.96  # Para un nivel de confianza del 95%\n",
        "p = 0.5  # Suponiendo el caso más desfavorable\n",
        "E = 0.02  # Error de estimación deseado\n",
        "\n",
        "# Calcular el tamaño mínimo de la muestra\n",
        "n = math.ceil((Z**2 * p * (1-p)) / E**2)\n",
        "\n",
        "print(\"El tamaño mínimo de la muestra necesario es:\", n)\n",
        "\n",
        "# Intervalo de confianza\n",
        "p_hat = 0.5  # Suponiendo que la proporción muestral es igual a la proporción poblacional\n",
        "intervalo = Z * math.sqrt((p_hat * (1 - p_hat)) / n)\n",
        "print(\"Intervalo de confianza:\", intervalo)"
      ],
      "metadata": {
        "colab": {
          "base_uri": "https://localhost:8080/"
        },
        "id": "pw7fG6Y9UlW7",
        "outputId": "36b936db-7daf-4314-9f8d-c8f1e4f67c39"
      },
      "execution_count": 3,
      "outputs": [
        {
          "output_type": "stream",
          "name": "stdout",
          "text": [
            "El tamaño mínimo de la muestra necesario es: 2401\n",
            "Intervalo de confianza: 0.02\n"
          ]
        }
      ]
    },
    {
      "cell_type": "markdown",
      "source": [
        "Caso 2\n",
        "\n",
        "Un fabricante de electrodomésticos sabe que la vida media de estos sigue una distribución normal con media 100 meses y desviación típica 12 meses.\n",
        "Determina el mínimo tamaño muestral que garantiza, con una probabilidad de 0,98, que la vida media de los electrodomésticos en dicha muestra se encuentre entre 90 y 100 meses."
      ],
      "metadata": {
        "id": "0VgNLaBDVFwl"
      }
    },
    {
      "cell_type": "code",
      "source": [
        "import math\n",
        "\n",
        "# Valores dados\n",
        "Z = 2.33  # Para una probabilidad del 98%\n",
        "sigma = 12  # Desviación estándar\n",
        "E = 5  # Amplitud del intervalo deseado\n",
        "\n",
        "# Calcular el tamaño mínimo de la muestra\n",
        "n = math.ceil((Z * sigma / E) ** 2)\n",
        "\n",
        "print(\"El tamaño mínimo de la muestra necesario es:\", n)"
      ],
      "metadata": {
        "colab": {
          "base_uri": "https://localhost:8080/"
        },
        "id": "62HFMADEVMml",
        "outputId": "e064a4a1-83ef-49a7-e4b5-790b19367af9"
      },
      "execution_count": 4,
      "outputs": [
        {
          "output_type": "stream",
          "name": "stdout",
          "text": [
            "El tamaño mínimo de la muestra necesario es: 32\n"
          ]
        }
      ]
    },
    {
      "cell_type": "markdown",
      "source": [
        "Caso 3\n",
        "\n",
        "Se desea obtener la media de una variable aleatoria que se distribuye normalmente con una desviación típica de 3,2. Para ello se toma una muestra de 64 individuos obteniéndose una media de 32,5"
      ],
      "metadata": {
        "id": "v80euG4eVeqy"
      }
    },
    {
      "cell_type": "markdown",
      "source": [
        "a) ¿Con qué nivel de confianza se puede afirmar que la media de la población está entre 31,5 y 33,5?"
      ],
      "metadata": {
        "id": "5HFnNkUDVllx"
      }
    },
    {
      "cell_type": "code",
      "source": [
        "from scipy.stats import norm\n",
        "\n",
        "# Datos dados\n",
        "mu = 32.5  # Media muestral\n",
        "sigma = 3.2  # Desviación estándar de la población\n",
        "n = 64  # Tamaño de la muestra\n",
        "x1 = 31.5  # Límite inferior del intervalo\n",
        "x2 = 33.5  # Límite superior del intervalo\n",
        "\n",
        "# Calcular el valor z correspondiente al nivel de confianza deseado\n",
        "z1 = (x1 - mu) / (sigma / (n ** 0.5))\n",
        "z2 = (x2 - mu) / (sigma / (n ** 0.5))\n",
        "\n",
        "# Calcular el nivel de confianza correspondiente al valor z\n",
        "confidence_level = (norm.cdf(z2) - norm.cdf(z1)) * 100  # Restar la probabilidad acumulada del límite inferior del límite superior\n",
        "\n",
        "print(\"El nivel de confianza es:\", confidence_level, \"%\")"
      ],
      "metadata": {
        "colab": {
          "base_uri": "https://localhost:8080/"
        },
        "id": "4ZRSjZjkWUvt",
        "outputId": "8474c12b-e454-47e0-c4ca-60b026ab03c2"
      },
      "execution_count": 7,
      "outputs": [
        {
          "output_type": "stream",
          "name": "stdout",
          "text": [
            "El nivel de confianza es: 98.75806693484476 %\n"
          ]
        }
      ]
    },
    {
      "cell_type": "markdown",
      "source": [
        "b) Si la desviación típica de la población fuera 3, ¿qué tamaño mínimo debería tener la muestra con la cual estimamos la media poblacional si queremos que el nivel de confianza sea del 99 %, y el error admisible no supere el valor de 0,75?"
      ],
      "metadata": {
        "id": "i6UKhwlbXHyu"
      }
    },
    {
      "cell_type": "code",
      "source": [
        "import math\n",
        "\n",
        "# Valores dados\n",
        "Z = 2.576  # Para un nivel de confianza del 99%\n",
        "sigma = 3  # Desviación estándar de la población\n",
        "E = 0.75  # Error admisible\n",
        "\n",
        "# Calcular el tamaño mínimo de la muestra\n",
        "n = math.ceil((Z**2 * sigma**2) / E**2)\n",
        "\n",
        "print(\"El tamaño mínimo de la muestra necesario es:\", n)"
      ],
      "metadata": {
        "colab": {
          "base_uri": "https://localhost:8080/"
        },
        "id": "Gm3DF9lIXPJ5",
        "outputId": "ad62b8f6-08dc-4413-cde9-297129a302d9"
      },
      "execution_count": 9,
      "outputs": [
        {
          "output_type": "stream",
          "name": "stdout",
          "text": [
            "El tamaño mínimo de la muestra necesario es: 107\n"
          ]
        }
      ]
    }
  ]
}