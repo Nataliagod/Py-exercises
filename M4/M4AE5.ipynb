{
  "nbformat": 4,
  "nbformat_minor": 0,
  "metadata": {
    "colab": {
      "provenance": []
    },
    "kernelspec": {
      "name": "python3",
      "display_name": "Python 3"
    },
    "language_info": {
      "name": "python"
    }
  },
  "cells": [
    {
      "cell_type": "markdown",
      "source": [
        "## **Ejercicios Planteados**"
      ],
      "metadata": {
        "id": "PiK1yZbjZOR1"
      }
    },
    {
      "cell_type": "markdown",
      "source": [
        "Caso 1\n",
        "\n",
        "Se sabe que la media del consumo de energía eléctrica en cierta provincia es de 721 kwh.\n",
        "Una empresa tecnológica de la región cree que sus empleados consumen más\n",
        "que el promedio provincial. Recoge información sobre los consumos de 20\n",
        "empleados escogidos al azar, y obtiene los siguientes datos:"
      ],
      "metadata": {
        "id": "NVZD-OxFbHdG"
      }
    },
    {
      "cell_type": "markdown",
      "source": [
        "$$\\begin{array} \\\\710 & 774 & 814 & 768 & 823 \\\\ 732 & 675 & 755 & 770 & 660 \\\\ 654 & 757 & 736 & 677 & 797 \\\\ 760 & 718 & 774 & 747 & 796\\\\\\end{array}$$"
      ],
      "metadata": {
        "id": "6eSYm0ixZP1o"
      }
    },
    {
      "cell_type": "markdown",
      "source": [
        "Si la distribución del consumo mensual de energía eléctrica es normal:"
      ],
      "metadata": {
        "id": "xVWX49pbbDSz"
      }
    },
    {
      "cell_type": "markdown",
      "source": [
        "a) ¿Hay evidencias para afirmar que el promedio del consumo de energía\n",
        "eléctrica hogareño de los empleados de la empresa es superior a la media\n",
        "del consumo a nivel provincial? Usar un nivel de significación del 10%"
      ],
      "metadata": {
        "id": "3_DmmzpsbXo6"
      }
    },
    {
      "cell_type": "code",
      "source": [
        "import numpy as np\n",
        "from scipy import stats\n",
        "\n",
        "# Datos\n",
        "consumo_empresa = np.array([710, 774, 814, 768, 823, 732, 675, 755, 770, 660, 654, 757, 736, 677, 797, 760, 718, 774, 747, 796])\n",
        "media_provincial = 721\n",
        "\n",
        "# Nivel de significación\n",
        "nivel_significacion = 0.10\n",
        "\n",
        "# Realizamos la prueba de hipótesis\n",
        "t_stat, p_valor = stats.ttest_1samp(consumo_empresa, media_provincial)\n",
        "\n",
        "# Dividimos el valor p por 2\n",
        "p_valor /= 2\n",
        "\n",
        "# Imprimimos el resultado\n",
        "print(\"Estadístico t:\", t_stat)\n",
        "print(\"Valor p unicaudal:\", p_valor)\n",
        "\n",
        "if p_valor < nivel_significacion:\n",
        "    print(\"Hay evidencia para rechazar la hipótesis nula.\")\n",
        "    print(\"Por lo tanto, hay evidencia para afirmar que el promedio del consumo de energía eléctrica hogareño de los empleados de la empresa es superior a la media del consumo a nivel provincial.\")\n",
        "else:\n",
        "    print(\"No hay evidencia para rechazar la hipótesis nula.\")"
      ],
      "metadata": {
        "colab": {
          "base_uri": "https://localhost:8080/"
        },
        "id": "G-S_S8-Qba8V",
        "outputId": "ea6d16d5-d374-4fdf-bea6-620c302a5567"
      },
      "execution_count": 2,
      "outputs": [
        {
          "output_type": "stream",
          "name": "stdout",
          "text": [
            "Estadístico t: 2.151574484899491\n",
            "Valor p unicaudal: 0.02225218278641426\n",
            "Hay evidencia para rechazar la hipótesis nula.\n",
            "Por lo tanto, hay evidencia para afirmar que el promedio del consumo de energía eléctrica hogareño de los empleados de la empresa es superior a la media del consumo a nivel provincial.\n"
          ]
        }
      ]
    },
    {
      "cell_type": "markdown",
      "source": [
        "b) ¿Cuál es el valor pp de la decisión?"
      ],
      "metadata": {
        "id": "jzSnSH6nbb-N"
      }
    },
    {
      "cell_type": "code",
      "source": [
        "import numpy as np\n",
        "from scipy import stats\n",
        "\n",
        "# Datos\n",
        "consumo_empresa = np.array([710, 774, 814, 768, 823, 732, 675, 755, 770, 660, 654, 757, 736, 677, 797, 760, 718, 774, 747, 796])\n",
        "media_provincial = 721\n",
        "\n",
        "# Realizamos la prueba de hipótesis\n",
        "t_stat, p_valor = stats.ttest_1samp(consumo_empresa, media_provincial)\n",
        "\n",
        "# Calculamos el valor p de la decisión (p-value)\n",
        "valor_p_decision = p_valor / 2  # Dividimos el valor p por 2 ya que es una prueba de una cola\n",
        "\n",
        "# Imprimimos el resultado\n",
        "print(\"El valor p de la decisión es:\", valor_p_decision)"
      ],
      "metadata": {
        "colab": {
          "base_uri": "https://localhost:8080/"
        },
        "id": "kwIMKV3sbntn",
        "outputId": "37ede627-5921-4896-a744-2ae33d92232b"
      },
      "execution_count": 3,
      "outputs": [
        {
          "output_type": "stream",
          "name": "stdout",
          "text": [
            "El valor p de la decisión es: 0.02225218278641426\n"
          ]
        }
      ]
    },
    {
      "cell_type": "markdown",
      "source": [
        "Otra forma"
      ],
      "metadata": {
        "id": "jQasHySAeSby"
      }
    },
    {
      "cell_type": "code",
      "source": [
        "import numpy as np\n",
        "\n",
        "# Datos de consumo de energía eléctrica de los empleados\n",
        "consumo = np.array([710, 774, 814, 768, 823, 732, 675, 755, 770, 660,\n",
        "                    654, 757, 736, 677, 797, 760, 718, 774, 747, 796])\n",
        "\n",
        "# Calcular el promedio de la muestra\n",
        "promedio_muestra = np.mean(consumo)\n",
        "\n",
        "# Calcular la desviación estándar de la muestra\n",
        "desviacion_muestra = np.std(consumo, ddof=1)\n",
        "\n",
        "# Imprimir resultados\n",
        "print(f'Promedio de la muestra: {promedio_muestra}')\n",
        "print(f'Desviación estándar de la muestra: {desviacion_muestra}')"
      ],
      "metadata": {
        "colab": {
          "base_uri": "https://localhost:8080/"
        },
        "id": "DvFO5gpueT1z",
        "outputId": "32659c8b-4513-46ba-f775-4c1117d720ea"
      },
      "execution_count": 4,
      "outputs": [
        {
          "output_type": "stream",
          "name": "stdout",
          "text": [
            "Promedio de la muestra: 744.85\n",
            "Desviación estándar de la muestra: 49.57320477414131\n"
          ]
        }
      ]
    },
    {
      "cell_type": "code",
      "source": [
        "from scipy import stats\n",
        "\n",
        "# Tamaño de la muestra\n",
        "n = 20\n",
        "\n",
        "# Media poblacional\n",
        "mu = 721\n",
        "\n",
        "# Calcular el estadístico de prueba (t)\n",
        "t_statistic = (promedio_muestra - mu) / (desviacion_muestra / np.sqrt(n))\n",
        "\n",
        "# Calcular el valor p\n",
        "p_value = 1 - stats.t.cdf(t_statistic, df=n-1)\n",
        "\n",
        "# Imprimir resultados\n",
        "print(f'Estadístico de prueba (t): {t_statistic}')\n",
        "print(f'Valor p: {p_value}')"
      ],
      "metadata": {
        "colab": {
          "base_uri": "https://localhost:8080/"
        },
        "id": "M2GsQaVleW0z",
        "outputId": "1843c4a6-e1ca-4f10-f1cd-e6d526aa21b7"
      },
      "execution_count": 5,
      "outputs": [
        {
          "output_type": "stream",
          "name": "stdout",
          "text": [
            "Estadístico de prueba (t): 2.1515744848994913\n",
            "Valor p: 0.022252182786414276\n"
          ]
        }
      ]
    }
  ]
}