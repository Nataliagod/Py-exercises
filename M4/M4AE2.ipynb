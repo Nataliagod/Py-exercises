{
  "nbformat": 4,
  "nbformat_minor": 0,
  "metadata": {
    "colab": {
      "provenance": []
    },
    "kernelspec": {
      "name": "python3",
      "display_name": "Python 3"
    },
    "language_info": {
      "name": "python"
    }
  },
  "cells": [
    {
      "cell_type": "markdown",
      "source": [
        "## **Ejercicios Planteados**\n",
        "\n",
        "## Use código py para calcular los problemas numéricos:\n",
        "\n",
        "import scipy.stats as ss\n",
        "\n",
        "X = ss.norm(media,desviación estándar)"
      ],
      "metadata": {
        "id": "tVI_xWlQ_YIs"
      }
    },
    {
      "cell_type": "markdown",
      "source": [
        "Caso 1:\n",
        "\n",
        "Variable aleatoria en Distribución normal. Si es una variable aleatoria de una distribución 𝑁𝑜𝑟𝑚𝑎𝑙(𝜇, 𝜎), hallar:\n",
        "\n",
        "𝑃 (𝜇 −\n",
        "3𝜎 < 𝑋 < 𝜇 +\n",
        "3𝜎) **texto en negrita**"
      ],
      "metadata": {
        "id": "4mdsZuMw_85M"
      }
    },
    {
      "cell_type": "code",
      "source": [
        "import scipy.stats as ss\n",
        "\n",
        "# Definimos la media y la desviación estándar\n",
        "media = 10\n",
        "desviacion_estandar = 2\n",
        "\n",
        "# Creamos una variable aleatoria normal\n",
        "X = ss.norm(media, desviacion_estandar)\n",
        "\n",
        "# Calculamos la probabilidad utilizando la función de distribución acumulativa (CDF)\n",
        "probabilidad = X.cdf(media + 3 * desviacion_estandar) - X.cdf(media - 3 * desviacion_estandar)\n",
        "\n",
        "print(\"La probabilidad de que X caiga dentro del intervalo ((𝜇 − 3𝜎 < 𝑋 < 𝜇 + 3𝜎)) es:\", probabilidad)"
      ],
      "metadata": {
        "colab": {
          "base_uri": "https://localhost:8080/"
        },
        "id": "fCitJ7t6AEDf",
        "outputId": "6862b451-9dde-41bb-f03e-132f3e5d0e99"
      },
      "execution_count": 2,
      "outputs": [
        {
          "output_type": "stream",
          "name": "stdout",
          "text": [
            "La probabilidad de que X caiga dentro del intervalo ((𝜇 − 3𝜎 < 𝑋 < 𝜇 + 3𝜎)) es: 0.9973002039367398\n"
          ]
        }
      ]
    },
    {
      "cell_type": "markdown",
      "source": [
        "Caso 2:\n",
        "\n",
        "Distribución normal, media y desviación típica\n",
        "\n",
        "En una distribución normal de media 4 y desviación típica 2, calcular el valor de 𝑎 para que:\n",
        "\n",
        "𝑃 (\n",
        "4 − 𝑎 < 𝑋 <\n",
        "4 + 𝑎) =\n",
        "0.\n",
        "5934"
      ],
      "metadata": {
        "id": "X7N0EoU8A5j5"
      }
    },
    {
      "cell_type": "code",
      "source": [
        "from scipy.stats import norm\n",
        "\n",
        "# Definimos la media y la desviación estándar\n",
        "media = 4\n",
        "desviacion_estandar = 2\n",
        "\n",
        "# Probabilidad deseada\n",
        "probabilidad_deseada = 0.5934\n",
        "\n",
        "# Calculamos el valor de 'a'\n",
        "a = norm.ppf((1 + probabilidad_deseada) / 2, media, desviacion_estandar) - media\n",
        "\n",
        "print(\"El valor de 'a' es:\", a)"
      ],
      "metadata": {
        "colab": {
          "base_uri": "https://localhost:8080/"
        },
        "id": "wk-Px521CdcW",
        "outputId": "1dab6993-5f95-4b27-d64b-7240bdac5d3e"
      },
      "execution_count": 21,
      "outputs": [
        {
          "output_type": "stream",
          "name": "stdout",
          "text": [
            "El valor de 'a' es: 1.659783463783759\n"
          ]
        }
      ]
    },
    {
      "cell_type": "markdown",
      "source": [
        "Caso 3:\n",
        "\n",
        "Distribución Normal. Dada una variable aleatoria continua Z, con distribución normal estándar,\n",
        "es decir, 𝑁(0, 1), encuentre las siguientes probabilidades, usando código py."
      ],
      "metadata": {
        "id": "_iExgsYBCl4L"
      }
    },
    {
      "cell_type": "markdown",
      "source": [
        "a) 𝑃 (\n",
        "0 < 𝑍 <\n",
        "1,\n",
        "25) ="
      ],
      "metadata": {
        "id": "bEeVE7McCzhc"
      }
    },
    {
      "cell_type": "code",
      "source": [
        "from scipy.stats import norm\n",
        "\n",
        "# Definimos los límites del intervalo\n",
        "limite_inferior = 0\n",
        "limite_superior = 1.25\n",
        "\n",
        "# Utilizamos la función de distribución acumulativa (CDF)\n",
        "probabilidad = norm.cdf(limite_superior) - norm.cdf(limite_inferior)\n",
        "\n",
        "print(\"La probabilidad de que Z caiga dentro del intervalo (0, 1.25) es:\", probabilidad)"
      ],
      "metadata": {
        "colab": {
          "base_uri": "https://localhost:8080/"
        },
        "id": "VKyMysQSC3ND",
        "outputId": "a60f4f44-60fa-4f1a-d608-b6731aee24af"
      },
      "execution_count": 8,
      "outputs": [
        {
          "output_type": "stream",
          "name": "stdout",
          "text": [
            "La probabilidad de que Z caiga dentro del intervalo (0, 1.25) es: 0.39435022633314465\n"
          ]
        }
      ]
    },
    {
      "cell_type": "markdown",
      "source": [
        "b) 𝑃 (𝑍 >\n",
        "1,\n",
        "25) ="
      ],
      "metadata": {
        "id": "SqyZHUBTC3Zj"
      }
    },
    {
      "cell_type": "code",
      "source": [
        "from scipy.stats import norm\n",
        "\n",
        "# Definimos el límite superior\n",
        "limite_superior = 1.25\n",
        "\n",
        "# Utilizamos la función (1 - CDF)\n",
        "probabilidad = 1 - norm.cdf(limite_superior)\n",
        "\n",
        "print(\"La probabilidad de que Z sea mayor que 1.25 es:\", probabilidad)"
      ],
      "metadata": {
        "colab": {
          "base_uri": "https://localhost:8080/"
        },
        "id": "gWPZIkvCC4oj",
        "outputId": "04619d40-ca4c-45c5-d29e-fd59d3d1001b"
      },
      "execution_count": 9,
      "outputs": [
        {
          "output_type": "stream",
          "name": "stdout",
          "text": [
            "La probabilidad de que Z sea mayor que 1.25 es: 0.10564977366685535\n"
          ]
        }
      ]
    },
    {
      "cell_type": "markdown",
      "source": [
        "c) 𝑃 (𝑍 < −\n",
        "1,\n",
        "25) ="
      ],
      "metadata": {
        "id": "9YLhNHvgC49a"
      }
    },
    {
      "cell_type": "code",
      "source": [
        "from scipy.stats import norm\n",
        "\n",
        "# Definimos el límite inferior\n",
        "limite_inferior = -1.25\n",
        "\n",
        "# Utilizamos la función de distribución acumulativa (CDF)\n",
        "probabilidad = norm.cdf(limite_inferior)\n",
        "\n",
        "print(\"La probabilidad de que Z sea menor que -1.25 es:\", probabilidad)"
      ],
      "metadata": {
        "colab": {
          "base_uri": "https://localhost:8080/"
        },
        "id": "2lM7kPPiDIyo",
        "outputId": "d644628f-0c13-4dc0-8ce6-3736de268a83"
      },
      "execution_count": 10,
      "outputs": [
        {
          "output_type": "stream",
          "name": "stdout",
          "text": [
            "La probabilidad de que Z sea menor que -1.25 es: 0.10564977366685535\n"
          ]
        }
      ]
    },
    {
      "cell_type": "markdown",
      "source": [
        "d) 𝑃 (\n",
        "0 < 𝑍 <\n",
        "1,\n",
        "33) ="
      ],
      "metadata": {
        "id": "9mUqFC_dDI-o"
      }
    },
    {
      "cell_type": "code",
      "source": [
        "from scipy.stats import norm\n",
        "\n",
        "# Definimos los límites del intervalo\n",
        "limite_inferior = 0\n",
        "limite_superior = 1.33\n",
        "\n",
        "# Utilizamos la función de distribución acumulativa (CDF)\n",
        "probabilidad = norm.cdf(limite_superior) - norm.cdf(limite_inferior)\n",
        "\n",
        "print(\"La probabilidad de que Z esté en el intervalo (0, 1.33) es:\", probabilidad)"
      ],
      "metadata": {
        "colab": {
          "base_uri": "https://localhost:8080/"
        },
        "id": "0o5LQG8sDP6F",
        "outputId": "1ef040ea-fd29-4565-cd81-6cb02bf0ac09"
      },
      "execution_count": 11,
      "outputs": [
        {
          "output_type": "stream",
          "name": "stdout",
          "text": [
            "La probabilidad de que Z esté en el intervalo (0, 1.33) es: 0.4082408643497193\n"
          ]
        }
      ]
    },
    {
      "cell_type": "markdown",
      "source": [
        "e) 𝑃 (𝑍 >\n",
        "1,\n",
        "33) ="
      ],
      "metadata": {
        "id": "1uDIZ7nrDQJD"
      }
    },
    {
      "cell_type": "code",
      "source": [
        "from scipy.stats import norm\n",
        "\n",
        "# Definimos el límite superior\n",
        "limite_superior = 1.33\n",
        "\n",
        "# Utilizamos la función complementaria de la CDF\n",
        "probabilidad = 1 - norm.cdf(limite_superior)\n",
        "\n",
        "print(\"La probabilidad de que Z sea mayor que 1.33 es:\", probabilidad)"
      ],
      "metadata": {
        "colab": {
          "base_uri": "https://localhost:8080/"
        },
        "id": "elrT13H2DS6i",
        "outputId": "41c8590f-4e60-4b3a-bbd9-460687fec2ae"
      },
      "execution_count": 12,
      "outputs": [
        {
          "output_type": "stream",
          "name": "stdout",
          "text": [
            "La probabilidad de que Z sea mayor que 1.33 es: 0.09175913565028071\n"
          ]
        }
      ]
    },
    {
      "cell_type": "markdown",
      "source": [
        "f) 𝑃 (−\n",
        "1,\n",
        "33 < 𝑍 <\n",
        "0) ="
      ],
      "metadata": {
        "id": "7XX_pOWXDTRL"
      }
    },
    {
      "cell_type": "code",
      "source": [
        "from scipy.stats import norm\n",
        "\n",
        "# Definimos los límites del intervalo\n",
        "limite_inferior = -1.33\n",
        "limite_superior = 0\n",
        "\n",
        "# Utilizamos la función de distribución acumulativa (CDF)\n",
        "probabilidad = norm.cdf(limite_superior) - norm.cdf(limite_inferior)\n",
        "\n",
        "print(\"La probabilidad de que Z esté en el intervalo (-1.33, 0) es:\", probabilidad)"
      ],
      "metadata": {
        "colab": {
          "base_uri": "https://localhost:8080/"
        },
        "id": "L7DIahL7DUQO",
        "outputId": "bdb27692-eca7-478c-84b6-91601fcf21d6"
      },
      "execution_count": 13,
      "outputs": [
        {
          "output_type": "stream",
          "name": "stdout",
          "text": [
            "La probabilidad de que Z esté en el intervalo (-1.33, 0) es: 0.40824086434971923\n"
          ]
        }
      ]
    },
    {
      "cell_type": "markdown",
      "source": [
        "Caso 4:\n",
        "\n",
        "Distribución Normal para la aplicación de exámenes.\n",
        "Se supone que los resultados de un examen siguen una distribución normal con media 78 y desviación típica 36.\n",
        "\n",
        "Se pide:"
      ],
      "metadata": {
        "id": "3-M32S40FLDB"
      }
    },
    {
      "cell_type": "markdown",
      "source": [
        "● ¿Cuál es la probabilidad de que una persona que se presenta el examen obtenga una calificación superior a 72?"
      ],
      "metadata": {
        "id": "bgl7VShWFU3Y"
      }
    },
    {
      "cell_type": "code",
      "source": [
        "from scipy.stats import norm\n",
        "\n",
        "# Definimos la media y la desviación estándar\n",
        "media = 78\n",
        "desviacion_estandar = 36\n",
        "puntuacion_limite = 72\n",
        "\n",
        "# Calculamos la probabilidad utilizando la función complementaria de la CDF\n",
        "probabilidad = 1 - norm.cdf(puntuacion_limite, media, desviacion_estandar)\n",
        "\n",
        "print(\"La probabilidad de que una persona obtenga una calificación superior a 72 es:\", probabilidad)"
      ],
      "metadata": {
        "colab": {
          "base_uri": "https://localhost:8080/"
        },
        "id": "axP0kV9VFyjV",
        "outputId": "22dc329d-5c1c-4235-be94-c967756cd66e"
      },
      "execution_count": 15,
      "outputs": [
        {
          "output_type": "stream",
          "name": "stdout",
          "text": [
            "La probabilidad de que una persona obtenga una calificación superior a 72 es: 0.5661838326109037\n"
          ]
        }
      ]
    },
    {
      "cell_type": "markdown",
      "source": [
        "● Calcular la proporción de estudiantes que tienen puntuaciones que exceden por lo menos en cinco puntos de la puntuación que marca la frontera entre el Apto y el No-Apto (son declarados No-Aptos el 25% de los estudiantes que obtuvieron las puntuaciones más bajas)."
      ],
      "metadata": {
        "id": "5P2znvHAFyvd"
      }
    },
    {
      "cell_type": "code",
      "source": [
        "from scipy.stats import norm\n",
        "\n",
        "# Definimos la media y la desviación estándar\n",
        "media = 78\n",
        "desviacion_estandar = 36\n",
        "\n",
        "# Calculamos el percentil 25\n",
        "percentil_25 = norm.ppf(0.25, media, desviacion_estandar)\n",
        "\n",
        "# Puntuación que marca la frontera entre \"Apto\" y \"No-Apto\"\n",
        "frontera_no_apto = percentil_25\n",
        "\n",
        "# Puntuación a partir de la cual los estudiantes son considerados \"Apto\"\n",
        "frontera_apto = frontera_no_apto + 5\n",
        "\n",
        "# Calculamos la proporción de estudiantes que tienen puntuaciones que exceden por lo menos en cinco puntos\n",
        "proporcion_estudiantes_apto = 1 - norm.cdf(frontera_apto, media, desviacion_estandar)\n",
        "\n",
        "print(\"La proporción de estudiantes es:\", proporcion_estudiantes_apto)"
      ],
      "metadata": {
        "colab": {
          "base_uri": "https://localhost:8080/"
        },
        "id": "XTa02MFKFzBZ",
        "outputId": "90edbe76-7120-4da1-b72e-c5036343018e"
      },
      "execution_count": 17,
      "outputs": [
        {
          "output_type": "stream",
          "name": "stdout",
          "text": [
            "La proporción de estudiantes es: 0.7038827833189224\n"
          ]
        }
      ]
    },
    {
      "cell_type": "markdown",
      "source": [
        "● Si se sabe que la calificación de un estudiante es mayor que 72, ¿cuál es la probabilidad de que su calificación sea, de hecho, superior a 84?"
      ],
      "metadata": {
        "id": "_SNaE5bEFzOn"
      }
    },
    {
      "cell_type": "markdown",
      "source": [
        "\n",
        "Para calcular la probabilidad de que la calificación de un estudiante sea superior a 84, dado que su calificación es mayor que 72, podemos utilizar la distribución normal acumulativa y la regla de Bayes."
      ],
      "metadata": {
        "id": "xNM0WxbeHp0T"
      }
    },
    {
      "cell_type": "code",
      "source": [
        "from scipy.stats import norm\n",
        "\n",
        "# Definimos la media y la desviación estándar\n",
        "media = 78\n",
        "desviacion_estandar = 36\n",
        "\n",
        "# Puntuación límite inferior\n",
        "limite_inferior = 72\n",
        "\n",
        "# Puntuación límite superior\n",
        "limite_superior = 84\n",
        "\n",
        "# Probabilidad de que la calificación sea mayor que 84\n",
        "probabilidad_superior_84 = 1 - norm.cdf(limite_superior, media, desviacion_estandar)\n",
        "\n",
        "# Probabilidad de que la calificación sea mayor que 72\n",
        "probabilidad_superior_72 = 1 - norm.cdf(limite_inferior, media, desviacion_estandar)\n",
        "\n",
        "# Probabilidad condicional de que la calificación sea mayor que 84 dado que es mayor que 72\n",
        "probabilidad_condicional = probabilidad_superior_84 / probabilidad_superior_72\n",
        "\n",
        "print(\"La probabilidad de que la calificación sea superior a 84, dado que es mayor que 72, es:\", probabilidad_condicional)"
      ],
      "metadata": {
        "colab": {
          "base_uri": "https://localhost:8080/"
        },
        "id": "vZNDeu8gF3Ab",
        "outputId": "3d55d7c9-9001-4268-abc6-15b1a5a46895"
      },
      "execution_count": 18,
      "outputs": [
        {
          "output_type": "stream",
          "name": "stdout",
          "text": [
            "La probabilidad de que la calificación sea superior a 84, dado que es mayor que 72, es: 0.7662108001010798\n"
          ]
        }
      ]
    },
    {
      "cell_type": "markdown",
      "source": [
        "Caso 5:\n",
        "\n",
        "Distribución Binomial. Uno de los ítems de una prueba sorpresa consta de 12 preguntas de verdadero o falso. Suponiendo que los estudiantes no saben contestar a ninguna de ellas y, contestan al azar, hallar la probabilidad de obtener seis aciertos."
      ],
      "metadata": {
        "id": "rRCtG64hHuR1"
      }
    },
    {
      "cell_type": "code",
      "source": [
        "from scipy.stats import binom\n",
        "\n",
        "# Número total de preguntas\n",
        "n_preguntas = 12\n",
        "\n",
        "# Número de aciertos deseado\n",
        "n_aciertos = 6\n",
        "\n",
        "# Probabilidad de éxito (obtener una respuesta correcta)\n",
        "probabilidad_exito = 0.5\n",
        "\n",
        "# Calcular la probabilidad utilizando la distribución binomial\n",
        "probabilidad = binom.pmf(n_aciertos, n_preguntas, probabilidad_exito)\n",
        "\n",
        "print(\"La probabilidad de obtener seis aciertos es:\", probabilidad)"
      ],
      "metadata": {
        "colab": {
          "base_uri": "https://localhost:8080/"
        },
        "id": "wrwH3fbdH6au",
        "outputId": "361b62c8-268f-49e9-be86-d2a1bd006f31"
      },
      "execution_count": 19,
      "outputs": [
        {
          "output_type": "stream",
          "name": "stdout",
          "text": [
            "La probabilidad de obtener seis aciertos es: 0.2255859375000002\n"
          ]
        }
      ]
    }
  ]
}