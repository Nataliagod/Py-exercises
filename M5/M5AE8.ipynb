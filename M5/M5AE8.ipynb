{
  "nbformat": 4,
  "nbformat_minor": 0,
  "metadata": {
    "colab": {
      "provenance": []
    },
    "kernelspec": {
      "name": "python3",
      "display_name": "Python 3"
    },
    "language_info": {
      "name": "python"
    }
  },
  "cells": [
    {
      "cell_type": "markdown",
      "source": [
        "**Ejercicios Planteados**"
      ],
      "metadata": {
        "id": "92Bbhx6SBNma"
      }
    },
    {
      "cell_type": "markdown",
      "source": [
        "Con el fin de clasificar las distintas actividades que puede realizar una persona, se realizó un experimento a un grupo de 30 voluntarios dentro de un grupo de edad de 19 a 48 años. Cada persona realizó seis actividades (CAMINAR, CAMINAR POR LAS ESCALERAS, BAJAR LAS ESCALERAS, SENTARSE, DE PIE, RECOSTARSE) con un smartphone (Samsung Galaxy S II) conectado en su cintura. Usando el acelerómetro y giroscopio integrados en el smartphone, se tienen la siguiente data:\n",
        "\n",
        "• Aceleración triaxial del acelerómetro (aceleración total) y la\n",
        "aceleración corporal estimada.\n",
        "\n",
        "• Velocidad angular triaxial del giroscopio.\n",
        "\n",
        "• Variables de dominio de tiempo y frecuencia.\n",
        "\n",
        "• Su etiqueta de actividad.\n",
        "\n",
        "• Un identificador del sujeto que realizó el experimento.\n",
        "\n",
        "El conjunto de datos obtenido se ha dividido aleatoriamente en dos\n",
        "conjuntos (train y test), donde se seleccionó al 70% de los voluntarios para generar los datos de entrenamiento y al 30% los datos de la prueba."
      ],
      "metadata": {
        "id": "VpXUG_OxBl24"
      }
    },
    {
      "cell_type": "code",
      "source": [
        "# Importar las bibliotecas necesarias\n",
        "import pandas as pd\n",
        "import numpy as np\n",
        "import seaborn as sns\n",
        "import matplotlib.pyplot as plt\n",
        "from sklearn.model_selection import train_test_split\n",
        "from sklearn.model_selection import cross_val_score\n",
        "from sklearn.linear_model import LogisticRegression\n",
        "from sklearn.preprocessing import StandardScaler\n",
        "from sklearn.preprocessing import KBinsDiscretizer\n",
        "from sklearn.preprocessing import OneHotEncoder\n",
        "from sklearn.tree import plot_tree\n",
        "from sklearn.ensemble import RandomForestRegressor\n",
        "from sklearn.neighbors import KNeighborsRegressor\n",
        "from sklearn.naive_bayes import MultinomialNB\n",
        "from sklearn.naive_bayes import GaussianNB\n",
        "from scipy.spatial.distance import pdist, squareform\n",
        "from sklearn.metrics import confusion_matrix\n",
        "from sklearn.metrics import accuracy_score, precision_score, recall_score, f1_score\n",
        "from sklearn.metrics import roc_curve, auc\n",
        "from sklearn.metrics import mean_absolute_error, mean_squared_error, r2_score\n",
        "from sklearn.metrics import roc_curve, roc_auc_score\n",
        "from sklearn.metrics import classification_report"
      ],
      "metadata": {
        "id": "LKvTlQbwCavO"
      },
      "execution_count": 2,
      "outputs": []
    },
    {
      "cell_type": "markdown",
      "source": [
        "### a) Cargue los set de datos de entrenamiento y prueba. ¿Cuáles son las dimensiones de estos set de datos?"
      ],
      "metadata": {
        "id": "qVKJIsM0BsS-"
      }
    },
    {
      "cell_type": "code",
      "source": [
        "import pandas as pd\n",
        "\n",
        "# Cargar los datos de entrenamiento y prueba\n",
        "train_url = \"https://raw.githubusercontent.com/natjulian/Contribuci-n-Diplomado-Data-Science-UC-2021/main/Bases%20de%20datos%20Clases/Activity/train.csv\"\n",
        "test_url = \"https://raw.githubusercontent.com/natjulian/Contribuci-n-Diplomado-Data-Science-UC-2021/main/Bases%20de%20datos%20Clases/Activity/test.csv\"\n",
        "\n",
        "train_data = pd.read_csv(train_url)\n",
        "test_data = pd.read_csv(test_url)\n",
        "\n",
        "# Mostramos los datos\n",
        "print('Datos de test:')\n",
        "print(test_data.head())\n",
        "print('Datos de train:')\n",
        "print(train_data.head())"
      ],
      "metadata": {
        "colab": {
          "base_uri": "https://localhost:8080/"
        },
        "id": "K5W1PBnmBfFY",
        "outputId": "351720c0-edbb-476e-ab34-83fd50c412dc"
      },
      "execution_count": 17,
      "outputs": [
        {
          "output_type": "stream",
          "name": "stdout",
          "text": [
            "Datos de test:\n",
            "   tBodyAcc-mean()-X  tBodyAcc-mean()-Y  tBodyAcc-mean()-Z  tBodyAcc-std()-X  \\\n",
            "0           0.257178          -0.023285          -0.014654         -0.938404   \n",
            "1           0.286027          -0.013163          -0.119083         -0.975415   \n",
            "2           0.275485          -0.026050          -0.118152         -0.993819   \n",
            "3           0.270298          -0.032614          -0.117520         -0.994743   \n",
            "4           0.274833          -0.027848          -0.129527         -0.993852   \n",
            "\n",
            "   tBodyAcc-std()-Y  tBodyAcc-std()-Z  tBodyAcc-mad()-X  tBodyAcc-mad()-Y  \\\n",
            "0         -0.920091         -0.667683         -0.952501         -0.925249   \n",
            "1         -0.967458         -0.944958         -0.986799         -0.968401   \n",
            "2         -0.969926         -0.962748         -0.994403         -0.970735   \n",
            "3         -0.973268         -0.967091         -0.995274         -0.974471   \n",
            "4         -0.967445         -0.978295         -0.994111         -0.965953   \n",
            "\n",
            "   tBodyAcc-mad()-Z  tBodyAcc-max()-X  ...  fBodyBodyGyroJerkMag-kurtosis()  \\\n",
            "0         -0.674302         -0.894088  ...                        -0.705974   \n",
            "1         -0.945823         -0.894088  ...                        -0.594944   \n",
            "2         -0.963483         -0.939260  ...                        -0.640736   \n",
            "3         -0.968897         -0.938610  ...                        -0.736124   \n",
            "4         -0.977346         -0.938610  ...                        -0.846595   \n",
            "\n",
            "   angle(tBodyAccMean,gravity)  angle(tBodyAccJerkMean),gravityMean)  \\\n",
            "0                     0.006462                              0.162920   \n",
            "1                    -0.083495                              0.017500   \n",
            "2                    -0.034956                              0.202302   \n",
            "3                    -0.017067                              0.154438   \n",
            "4                    -0.002223                             -0.040046   \n",
            "\n",
            "   angle(tBodyGyroMean,gravityMean)  angle(tBodyGyroJerkMean,gravityMean)  \\\n",
            "0                         -0.825886                              0.271151   \n",
            "1                         -0.434375                              0.920593   \n",
            "2                          0.064103                              0.145068   \n",
            "3                          0.340134                              0.296407   \n",
            "4                          0.736715                             -0.118545   \n",
            "\n",
            "   angle(X,gravityMean)  angle(Y,gravityMean)  angle(Z,gravityMean)  subject  \\\n",
            "0             -0.720009              0.276801             -0.057978        2   \n",
            "1             -0.698091              0.281343             -0.083898        2   \n",
            "2             -0.702771              0.280083             -0.079346        2   \n",
            "3             -0.698954              0.284114             -0.077108        2   \n",
            "4             -0.692245              0.290722             -0.073857        2   \n",
            "\n",
            "   Activity  \n",
            "0  STANDING  \n",
            "1  STANDING  \n",
            "2  STANDING  \n",
            "3  STANDING  \n",
            "4  STANDING  \n",
            "\n",
            "[5 rows x 563 columns]\n",
            "Datos de train:\n",
            "   tBodyAcc-mean()-X  tBodyAcc-mean()-Y  tBodyAcc-mean()-Z  tBodyAcc-std()-X  \\\n",
            "0           0.288585          -0.020294          -0.132905         -0.995279   \n",
            "1           0.278419          -0.016411          -0.123520         -0.998245   \n",
            "2           0.279653          -0.019467          -0.113462         -0.995380   \n",
            "3           0.279174          -0.026201          -0.123283         -0.996091   \n",
            "4           0.276629          -0.016570          -0.115362         -0.998139   \n",
            "\n",
            "   tBodyAcc-std()-Y  tBodyAcc-std()-Z  tBodyAcc-mad()-X  tBodyAcc-mad()-Y  \\\n",
            "0         -0.983111         -0.913526         -0.995112         -0.983185   \n",
            "1         -0.975300         -0.960322         -0.998807         -0.974914   \n",
            "2         -0.967187         -0.978944         -0.996520         -0.963668   \n",
            "3         -0.983403         -0.990675         -0.997099         -0.982750   \n",
            "4         -0.980817         -0.990482         -0.998321         -0.979672   \n",
            "\n",
            "   tBodyAcc-mad()-Z  tBodyAcc-max()-X  ...  fBodyBodyGyroJerkMag-kurtosis()  \\\n",
            "0         -0.923527         -0.934724  ...                        -0.710304   \n",
            "1         -0.957686         -0.943068  ...                        -0.861499   \n",
            "2         -0.977469         -0.938692  ...                        -0.760104   \n",
            "3         -0.989302         -0.938692  ...                        -0.482845   \n",
            "4         -0.990441         -0.942469  ...                        -0.699205   \n",
            "\n",
            "   angle(tBodyAccMean,gravity)  angle(tBodyAccJerkMean),gravityMean)  \\\n",
            "0                    -0.112754                              0.030400   \n",
            "1                     0.053477                             -0.007435   \n",
            "2                    -0.118559                              0.177899   \n",
            "3                    -0.036788                             -0.012892   \n",
            "4                     0.123320                              0.122542   \n",
            "\n",
            "   angle(tBodyGyroMean,gravityMean)  angle(tBodyGyroJerkMean,gravityMean)  \\\n",
            "0                         -0.464761                             -0.018446   \n",
            "1                         -0.732626                              0.703511   \n",
            "2                          0.100699                              0.808529   \n",
            "3                          0.640011                             -0.485366   \n",
            "4                          0.693578                             -0.615971   \n",
            "\n",
            "   angle(X,gravityMean)  angle(Y,gravityMean)  angle(Z,gravityMean)  subject  \\\n",
            "0             -0.841247              0.179941             -0.058627        1   \n",
            "1             -0.844788              0.180289             -0.054317        1   \n",
            "2             -0.848933              0.180637             -0.049118        1   \n",
            "3             -0.848649              0.181935             -0.047663        1   \n",
            "4             -0.847865              0.185151             -0.043892        1   \n",
            "\n",
            "   Activity  \n",
            "0  STANDING  \n",
            "1  STANDING  \n",
            "2  STANDING  \n",
            "3  STANDING  \n",
            "4  STANDING  \n",
            "\n",
            "[5 rows x 563 columns]\n"
          ]
        }
      ]
    },
    {
      "cell_type": "code",
      "source": [
        "# Mostrar las dimensiones de los set de datos\n",
        "print(\"Dimensiones del conjunto de datos de entrenamiento:\", train_data.shape)\n",
        "print(\"Dimensiones del conjunto de datos de prueba:\", test_data.shape)"
      ],
      "metadata": {
        "colab": {
          "base_uri": "https://localhost:8080/"
        },
        "id": "U8BaZVzRIOgU",
        "outputId": "dee397b0-d702-4275-aeea-919661d34831"
      },
      "execution_count": 18,
      "outputs": [
        {
          "output_type": "stream",
          "name": "stdout",
          "text": [
            "Dimensiones del conjunto de datos de entrenamiento: (7352, 563)\n",
            "Dimensiones del conjunto de datos de prueba: (2947, 563)\n"
          ]
        }
      ]
    },
    {
      "cell_type": "markdown",
      "source": [
        "### b) Estudie la cantidad de registros que hay en cada actividad en el set de entrenamiento. Para esto, una opción es utilizar la función de pandas crosstab(index=columna, columns=\"count\"). ¿Cómo se encuentran repartidas las Actividades? ¿Existe algún desbalance en las categorías? (realice un gráfico que acompañe su análisis) Comente."
      ],
      "metadata": {
        "id": "NtNHQYaqDQRh"
      }
    },
    {
      "cell_type": "code",
      "source": [
        "import matplotlib.pyplot as plt\n",
        "\n",
        "# Utilizar crosstab para contar la cantidad de registros por actividad\n",
        "activity_counts = pd.crosstab(index=train_data['Activity'], columns=\"count\")\n",
        "\n",
        "# Mostrar los datos de la tabla de frecuencia\n",
        "print(activity_counts)\n",
        "\n",
        "#mostrar las columnas de los datos\n",
        "print('Columnas de test:', test_data.columns)\n",
        "\n",
        "# Graficar la distribución de las actividades\n",
        "plt.figure(figsize=(10, 6))\n",
        "plt.bar(activity_counts.index, activity_counts['count'], color='skyblue')\n",
        "plt.xlabel('Actividad')\n",
        "plt.ylabel('Cantidad de registros')\n",
        "plt.title('Distribución de registros por actividad en el conjunto de entrenamiento')\n",
        "plt.xticks(rotation=45, ha='right')\n",
        "plt.grid(axis='y', linestyle='--', alpha=0.7)\n",
        "plt.show()\n",
        "\n"
      ],
      "metadata": {
        "colab": {
          "base_uri": "https://localhost:8080/",
          "height": 1000
        },
        "id": "KyBGWlsPDW8e",
        "outputId": "50ffbeb9-4089-40c5-8203-9e7555d0e3d6"
      },
      "execution_count": 21,
      "outputs": [
        {
          "output_type": "stream",
          "name": "stdout",
          "text": [
            "col_0               count\n",
            "Activity                 \n",
            "LAYING               1407\n",
            "SITTING              1286\n",
            "STANDING             1374\n",
            "WALKING              1226\n",
            "WALKING_DOWNSTAIRS    986\n",
            "WALKING_UPSTAIRS     1073\n",
            "Columnas de test: Index(['tBodyAcc-mean()-X', 'tBodyAcc-mean()-Y', 'tBodyAcc-mean()-Z',\n",
            "       'tBodyAcc-std()-X', 'tBodyAcc-std()-Y', 'tBodyAcc-std()-Z',\n",
            "       'tBodyAcc-mad()-X', 'tBodyAcc-mad()-Y', 'tBodyAcc-mad()-Z',\n",
            "       'tBodyAcc-max()-X',\n",
            "       ...\n",
            "       'fBodyBodyGyroJerkMag-kurtosis()', 'angle(tBodyAccMean,gravity)',\n",
            "       'angle(tBodyAccJerkMean),gravityMean)',\n",
            "       'angle(tBodyGyroMean,gravityMean)',\n",
            "       'angle(tBodyGyroJerkMean,gravityMean)', 'angle(X,gravityMean)',\n",
            "       'angle(Y,gravityMean)', 'angle(Z,gravityMean)', 'subject', 'Activity'],\n",
            "      dtype='object', length=563)\n"
          ]
        },
        {
          "output_type": "display_data",
          "data": {
            "text/plain": [
              "<Figure size 1000x600 with 1 Axes>"
            ],
            "image/png": "[encoded data removed]"
          },
          "metadata": {}
        }
      ]
    },
    {
      "cell_type": "markdown",
      "source": [
        "Este código generará un gráfico de barras que muestra la cantidad de registros para cada actividad en el conjunto de entrenamiento, además de imprimir la tabla de frecuencia con la cantidad de registros por actividad.\n",
        "\n",
        "Al observar el gráfico y la tabla se puede analizar si existe algún desbalance en las categorías. Si alguna actividad tiene significativamente menos registros que otras, podría considerarse un desbalance que debe tenerse en cuenta al entrenar el modelo.\n",
        "\n",
        "El gráfico de barras presenta la distribución de seis actividades distintas: LAYING, SITTING, STANDING, WALKING, WALKING_DOWNSTAIRS y WALKING_UPSTAIRS, junto con sus respectivos recuentos. Aquí se analiza la distribución:\n",
        "\n",
        "-- LAYING: Encabeza la lista con 1407 instancias, siendo la actividad más frecuente en el conjunto de datos.\n",
        "\n",
        "-- SITTING: Sigue de cerca con 1286 instancias. STANDING: También es común, con 1374 instancias.\n",
        "\n",
        "-- WALKING: Aunque aún es significativa, registra 1226 instancias.\n",
        "\n",
        "-- WALKING_DOWNSTAIRS: Presenta un número menor de instancias, con 986.\n",
        "\n",
        "-- WALKING_UPSTAIRS: Es la menos común, con 1073 instancias. En general, las actividades de reposo (LAYING, SITTING y STANDING) superan en frecuencia a las actividades de movimiento (WALKING y escaleras).\n",
        "\n",
        "Este desequilibrio podría incidir en el rendimiento de un modelo de aprendizaje automático, especialmente si se busca predecir actividades menos frecuentes."
      ],
      "metadata": {
        "id": "vvUi_gAWD7sn"
      }
    },
    {
      "cell_type": "markdown",
      "source": [
        "### c) Defina X_train y X_test como corresponda (omitiendo las variables que no corresponden a variables predictoras)."
      ],
      "metadata": {
        "id": "wrRWKr6aDytV"
      }
    },
    {
      "cell_type": "code",
      "source": [
        "# Para X_test, tomamos todas las columnas de 'test' excepto 'Activity'\n",
        "X_test = test_data.drop('Activity', axis=1)\n",
        "\n",
        "# Y_test es simplemente la columna 'Activity' de 'test'\n",
        "Y_test = test_data['Activity']\n",
        "\n",
        "# Hacemos lo mismo para el conjunto de entrenamiento: para X_train, tomamos todas las columnas de 'train' excepto 'Activity'\n",
        "X_train = train_data.drop('Activity', axis=1)\n",
        "\n",
        "# Y_train es simplemente la columna 'Activity' de 'train'\n",
        "Y_train = train_data['Activity']"
      ],
      "metadata": {
        "id": "FPerdOmdJzOc"
      },
      "execution_count": 24,
      "outputs": []
    },
    {
      "cell_type": "markdown",
      "source": [
        "### d) Estandarice el set de features de entrenamiento y prueba. Recuerde que puede utilizar la función vista en clases StandardScaler: from sklearn.preprocessing import StandardScaler x_stand = StandardScaler().fit_transform(x)"
      ],
      "metadata": {
        "id": "PFatwaXDEgSd"
      }
    },
    {
      "cell_type": "code",
      "source": [
        "from sklearn.preprocessing import StandardScaler\n",
        "\n",
        "# Inicializar el objeto StandardScaler\n",
        "scaler = StandardScaler()\n",
        "\n",
        "# Estandarizar el conjunto de características de entrenamiento\n",
        "X_train_stand = scaler.fit_transform(X_train)\n",
        "\n",
        "# Estandarizar el conjunto de características de prueba utilizando la misma transformación que se aplicó a los datos de entrenamiento\n",
        "X_test_stand = scaler.transform(X_test)"
      ],
      "metadata": {
        "id": "AOfsi4HmEp5E"
      },
      "execution_count": 26,
      "outputs": []
    },
    {
      "cell_type": "markdown",
      "source": [
        "### e) Defina y_train e y_test como corresponda (recuerde que debe estar codificada numéricamente). Para recodificar un vector o columna y de varias categorías a formato numérico puede utilizar:\n",
        "\n",
        "• from sklearn import preprocessing\n",
        "\n",
        "• encoder=preprocessing.LabelEncoder().fit(y)\n",
        "\n",
        "• y_new=encodertrain.transform(y)"
      ],
      "metadata": {
        "id": "gvPwfufSFthB"
      }
    },
    {
      "cell_type": "code",
      "source": [
        "from sklearn import preprocessing\n",
        "\n",
        "# Crear el codificador\n",
        "encoder = preprocessing.LabelEncoder()\n",
        "\n",
        "# Ajustar el codificador a las etiquetas de entrenamiento y prueba\n",
        "encoder.fit(pd.concat([Y_train, Y_test]))\n",
        "\n",
        "# Transformar las etiquetas de entrenamiento y prueba\n",
        "Y_train_encoded = encoder.transform(Y_train)\n",
        "Y_test_encoded = encoder.transform(Y_test)\n",
        "\n",
        "# Imprimir los resultados\n",
        "print(\"Y_train_encoded: \", Y_train_encoded)\n",
        "print(\"Y_test_encoded: \", Y_test_encoded)"
      ],
      "metadata": {
        "colab": {
          "base_uri": "https://localhost:8080/"
        },
        "id": "nT4_J2uHL0hH",
        "outputId": "8d8a23ed-72da-48fe-f911-3253e31bc7e9"
      },
      "execution_count": 27,
      "outputs": [
        {
          "output_type": "stream",
          "name": "stdout",
          "text": [
            "Y_train_encoded:  [2 2 2 ... 5 5 5]\n",
            "Y_test_encoded:  [2 2 2 ... 5 5 5]\n"
          ]
        }
      ]
    },
    {
      "cell_type": "markdown",
      "source": [
        "### f) Defina un diccionario con las opciones de:\n",
        "\n",
        "• El kernel se mueva entre linear o rbf\n",
        "\n",
        "• El C se mueva entre los valores 10 y 15"
      ],
      "metadata": {
        "id": "cq9ZkafMGABm"
      }
    },
    {
      "cell_type": "code",
      "source": [
        "param_options = {'kernel': ['linear', 'rbf'],\n",
        "                 'C': [10, 15]}\n",
        "\n",
        "# Imprimir el diccionario\n",
        "print(param_options)"
      ],
      "metadata": {
        "colab": {
          "base_uri": "https://localhost:8080/"
        },
        "id": "4LKtV3s0GLq-",
        "outputId": "8656a327-6321-48f3-8e06-66f08ee00f6f"
      },
      "execution_count": 31,
      "outputs": [
        {
          "output_type": "stream",
          "name": "stdout",
          "text": [
            "{'kernel': ['linear', 'rbf'], 'C': [10, 15]}\n"
          ]
        }
      ]
    },
    {
      "cell_type": "markdown",
      "source": [
        "### g) Utilice la función GridSearchCV para realizar 10 validaciones cruzadas con la lista de parámetros definida anteriormente. Determine la mejor combinación de parámetros y obtenga el modelo con dichos parámetros."
      ],
      "metadata": {
        "id": "TkP0-NslGZVa"
      }
    },
    {
      "cell_type": "code",
      "source": [
        "from sklearn.model_selection import GridSearchCV\n",
        "from sklearn.svm import SVC\n",
        "\n",
        "# Crear el clasificador SVM\n",
        "svm = SVC()\n",
        "\n",
        "# Definir la búsqueda de cuadrícula con la lista de parámetros y 10 validaciones cruzadas\n",
        "grid_search = GridSearchCV(svm, param_grid=param_options, cv=10)\n",
        "\n",
        "# Realizar la búsqueda de cuadrícula en los datos de entrenamiento\n",
        "grid_search.fit(X_train_stand, y_train_encoded)\n",
        "\n",
        "# Obtener la mejor combinación de parámetros\n",
        "best_params = grid_search.best_params_\n",
        "print(\"Mejor combinación de parámetros:\", best_params)\n",
        "\n",
        "# Obtener el modelo con los mejores parámetros\n",
        "best_model = grid_search.best_estimator_"
      ],
      "metadata": {
        "colab": {
          "base_uri": "https://localhost:8080/"
        },
        "id": "IswItlgFGfax",
        "outputId": "7bb23913-8200-42a9-8bfd-b389ba6e3af3"
      },
      "execution_count": 32,
      "outputs": [
        {
          "output_type": "stream",
          "name": "stdout",
          "text": [
            "Mejor combinación de parámetros: {'C': 10, 'kernel': 'rbf'}\n"
          ]
        }
      ]
    },
    {
      "cell_type": "markdown",
      "source": [
        "### h) ¿Cómo es la capacidad predictiva de este modelo en el set de prueba? Comente."
      ],
      "metadata": {
        "id": "fwENW02pG5gu"
      }
    },
    {
      "cell_type": "code",
      "source": [
        "from sklearn.metrics import accuracy_score\n",
        "\n",
        "# Predecir las etiquetas de clase en el conjunto de prueba\n",
        "y_pred = best_model.predict(X_test_stand)\n",
        "\n",
        "# Calcular la precisión del modelo en el conjunto de prueba\n",
        "accuracy = accuracy_score(y_test_encoded, y_pred)\n",
        "print(\"Precisión del modelo en el conjunto de prueba:\", accuracy)"
      ],
      "metadata": {
        "colab": {
          "base_uri": "https://localhost:8080/"
        },
        "id": "0ODd0hK7G7WJ",
        "outputId": "7d313184-4aaf-4eaf-ee96-f5c55a29460d"
      },
      "execution_count": 11,
      "outputs": [
        {
          "output_type": "stream",
          "name": "stdout",
          "text": [
            "Precisión del modelo en el conjunto de prueba: 0.9609772650152698\n"
          ]
        }
      ]
    },
    {
      "cell_type": "markdown",
      "source": [
        "Una precisión del 96.10% en el conjunto de prueba es bastante alta y sugiere que el modelo de SVM entrenado con la mejor combinación de parámetros tiene una capacidad predictiva sólida. Esto significa que el modelo es capaz de predecir correctamente la actividad realizada por una persona a partir de los datos del acelerómetro y el giroscopio con una precisión muy alta en el conjunto de prueba.\n",
        "\n",
        "Una precisión tan alta indica que el modelo generaliza bien a nuevos datos y es capaz de capturar patrones importantes en los datos de entrenamiento que también se aplican a los datos de prueba. Esto es una señal positiva de que el modelo puede ser útil en la clasificación de actividades humanas basadas en datos de sensores como los proporcionados en este conjunto de datos.\n",
        "\n",
        "En resumen, un resultado de precisión del 96.10% sugiere que el modelo SVM entrenado es bastante confiable para predecir las actividades humanas en nuevos datos con características similares a los datos de prueba."
      ],
      "metadata": {
        "id": "yZ_Yyd4YHPVf"
      }
    },
    {
      "cell_type": "code",
      "source": [
        "from sklearn.metrics import confusion_matrix\n",
        "import seaborn as sns\n",
        "import matplotlib.pyplot as plt\n",
        "\n",
        "# Calcular la matriz de confusión\n",
        "cm = confusion_matrix(Y_test_encoded, Y_test_pred)\n",
        "\n",
        "# Crear un mapa de calor a partir de la matriz de confusión\n",
        "plt.figure(figsize=(10,7))\n",
        "sns.heatmap(cm, annot=True, fmt='d', cmap='Blues')\n",
        "plt.xlabel('Predicho')\n",
        "plt.ylabel('Verdadero')\n",
        "plt.title('Matriz de Confusión')\n",
        "\n",
        "plt.show()"
      ],
      "metadata": {
        "colab": {
          "base_uri": "https://localhost:8080/",
          "height": 641
        },
        "id": "5fpdGeUQOVUI",
        "outputId": "0bad1997-9930-4741-c771-942e9b7d870e"
      },
      "execution_count": 35,
      "outputs": [
        {
          "output_type": "display_data",
          "data": {
            "text/plain": [
              "<Figure size 1000x700 with 2 Axes>"
            ],
            "image/png": "[encoded data removed]"
          },
          "metadata": {}
        }
      ]
    },
    {
      "cell_type": "code",
      "source": [
        "from sklearn.metrics import classification_report\n",
        "\n",
        "# Generar informe de clasificación\n",
        "report = classification_report(Y_test_encoded, Y_test_pred)\n",
        "\n",
        "print(report)"
      ],
      "metadata": {
        "colab": {
          "base_uri": "https://localhost:8080/"
        },
        "id": "D5M9KlWVOfSz",
        "outputId": "1cd68521-be91-4512-ce1f-b72d17c35418"
      },
      "execution_count": 34,
      "outputs": [
        {
          "output_type": "stream",
          "name": "stdout",
          "text": [
            "              precision    recall  f1-score   support\n",
            "\n",
            "           0       1.00      1.00      1.00       537\n",
            "           1       0.97      0.86      0.91       491\n",
            "           2       0.89      0.97      0.93       532\n",
            "           3       0.95      1.00      0.97       496\n",
            "           4       0.99      0.98      0.98       420\n",
            "           5       0.98      0.95      0.97       471\n",
            "\n",
            "    accuracy                           0.96      2947\n",
            "   macro avg       0.96      0.96      0.96      2947\n",
            "weighted avg       0.96      0.96      0.96      2947\n",
            "\n"
          ]
        }
      ]
    },
    {
      "cell_type": "markdown",
      "source": [
        "El informe de clasificación ofrece una evaluación detallada del desempeño del modelo de clasificación en cada clase. Aquí se presenta la interpretación de las métricas clave:\n",
        "\n",
        "Precisión (Precision): La precisión mide la proporción de predicciones positivas correctas en relación con todas las predicciones positivas realizadas. En promedio, el modelo exhibe una precisión del 96%. Esto significa que, en general, cuando el modelo etiqueta una clase como positiva, acierta el 96% de las veces.\n",
        "\n",
        "Recuerdo (Recall): El recuerdo mide la proporción de verdaderos positivos respecto al total de muestras positivas reales. En promedio, el modelo presenta un recuerdo del 96%. Esto indica que el modelo identifica correctamente el 96% de todas las muestras positivas.\n",
        "\n",
        "Valor F1 (F1 Score): El valor F1 combina precisión y recuerdo en una única métrica. En promedio, el valor F1 alcanza el 96%, lo que sugiere un buen equilibrio entre precisión y recuerdo.\n",
        "\n",
        "Exactitud (Accuracy): La exactitud evalúa la proporción de muestras clasificadas correctamente. En este caso, la exactitud alcanza el 96%, lo que indica un rendimiento general sólido del modelo.\n",
        "\n",
        "En resumen, el modelo presenta un desempeño sólido en la mayoría de las clases, con altos valores de precisión, recuerdo y valor F1. Sin embargo, es crucial considerar el contexto específico del problema y las implicaciones de los errores (falsos positivos y falsos negativos) para determinar si el rendimiento es satisfactorio para tus necesidades específicas."
      ],
      "metadata": {
        "id": "Gf3QeIgoOyA2"
      }
    }
  ]
}