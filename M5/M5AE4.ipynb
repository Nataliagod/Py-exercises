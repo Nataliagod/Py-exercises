{
  "nbformat": 4,
  "nbformat_minor": 0,
  "metadata": {
    "colab": {
      "provenance": []
    },
    "kernelspec": {
      "name": "python3",
      "display_name": "Python 3"
    },
    "language_info": {
      "name": "python"
    }
  },
  "cells": [
    {
      "cell_type": "markdown",
      "source": [
        "**Ejercicios Planteados**"
      ],
      "metadata": {
        "id": "L_FFOEilEvOA"
      }
    },
    {
      "cell_type": "markdown",
      "source": [
        "El archivo diabetes.csv proviene del Instituto Nacional de Enfermedades Diabetológicas, Digestivas y Nefrológicas de los Estados Unidos.\n",
        "\n",
        "El objetivo de la base de datos es predecir si un paciente tiene o no diabetes, en base a ciertas mediciones diagnósticas incluidas en el conjunto de datos. Este es un subconjunto de una base de datos mucho más grande. Aquí se han seleccionado solo mujeres con edad mayor o igual a 21, descendientes del pueblo indígena Pima.\n",
        "\n",
        "Las variables disponibles son las siguientes:\n",
        "● Pregnancies: número de veces embarazada.\n",
        "\n",
        "● Glucose: concentración de glucosa en plasma 2 horas en una prueba de tolerancia a la glucosa oral.\n",
        "\n",
        "● BoodPressure: presión arterial diastólica (mm Hg).\n",
        "\n",
        "● SkinThickness: espesor de pliegue de la piel de los tríceps (mm).\n",
        "\n",
        "● Insulin: insulina sérica de 2 horas (MU u/ml).\n",
        "\n",
        "● BMI: índice de masa corporal (peso en kg/(altura en m)^2).\n",
        "\n",
        "● DiabetesPedigreeFunction: Función de pedigrí de diabetes (DPF). Cálculo de una probabilidad de diabetes en función de la edad y de la historia diabética familiar.\n",
        "\n",
        "● Age: edad en años.\n",
        "\n",
        "● Outcome: variable categórica que indica si tiene un paciente tiene diabetes o no tiene diabetes."
      ],
      "metadata": {
        "id": "-jawQdYwEvz3"
      }
    },
    {
      "cell_type": "markdown",
      "source": [
        "### 1. Cargue los datos y muestre los primeros 6 registros. Identifique qué **variable**(s) es(son) numérica(s) y qué variable(s) es(son) categórica(s)."
      ],
      "metadata": {
        "id": "SDaduH3fGO7j"
      }
    },
    {
      "cell_type": "code",
      "source": [
        "# Importar las bibliotecas necesarias\n",
        "import pandas as pd\n",
        "# Importar la función para dividir los datos\n",
        "from sklearn.model_selection import train_test_split\n",
        "# Importar la clase de Regresión Logística\n",
        "from sklearn.linear_model import LogisticRegression\n",
        "# Importar la función para calcular la matriz de confusión\n",
        "from sklearn.metrics import confusion_matrix\n",
        "# Importar la función para calcular la precisión\n",
        "import seaborn as sns\n",
        "# Importar la función para graficar la matriz de confusión\n",
        "import matplotlib.pyplot as plt\n",
        "# Importar las funciones para calcular las métricas de evaluación\n",
        "from sklearn.metrics import accuracy_score, precision_score, recall_score, f1_score\n",
        "# Importar la función para graficar la curva ROC\n",
        "from sklearn.metrics import roc_curve, auc"
      ],
      "metadata": {
        "id": "oMfSPCX-H-I3"
      },
      "execution_count": 2,
      "outputs": []
    },
    {
      "cell_type": "code",
      "source": [
        "import pandas as pd\n",
        "\n",
        "# Cargar los datos desde el enlace proporcionado\n",
        "url = \"https://raw.githubusercontent.com/Nataliagod/TD-CD/main/diabetes.csv\"\n",
        "diabetes_data = pd.read_csv(url)\n",
        "\n",
        "# Mostrar los primeros 6 registros\n",
        "print(diabetes_data.head(6))"
      ],
      "metadata": {
        "colab": {
          "base_uri": "https://localhost:8080/"
        },
        "id": "a4pv4e4mHu73",
        "outputId": "2680ae0b-731e-4faf-f311-eb4fe82794fd"
      },
      "execution_count": 7,
      "outputs": [
        {
          "output_type": "stream",
          "name": "stdout",
          "text": [
            "   Pregnancies  Glucose  BloodPressure  SkinThickness  Insulin   BMI  \\\n",
            "0            6      148             72             35        0  33.6   \n",
            "1            1       85             66             29        0  26.6   \n",
            "2            8      183             64              0        0  23.3   \n",
            "3            1       89             66             23       94  28.1   \n",
            "4            0      137             40             35      168  43.1   \n",
            "5            5      116             74              0        0  25.6   \n",
            "\n",
            "   DiabetesPedigreeFunction  Age  Outcome  \n",
            "0                     0.627   50        1  \n",
            "1                     0.351   31        0  \n",
            "2                     0.672   32        1  \n",
            "3                     0.167   21        0  \n",
            "4                     2.288   33        1  \n",
            "5                     0.201   30        0  \n"
          ]
        }
      ]
    },
    {
      "cell_type": "code",
      "source": [
        "# Convertir 'Outcome' a una variable categórica\n",
        "diabetes_data['Outcome'] = diabetes_data['Outcome'].astype('category')\n",
        "\n",
        "# Identificar las variables numéricas y categóricas\n",
        "variables_numericas = diabetes_data.select_dtypes(include=['int64', 'float64']).columns\n",
        "variables_categoricas = diabetes_data.select_dtypes(include=['object', 'category']).columns\n",
        "\n",
        "# Imprimir las variables numéricas\n",
        "print(\"Variables numéricas:\")\n",
        "for variable in variables_numericas:\n",
        "    print(\" -\", variable)\n",
        "\n",
        "# Imprimir las variables categóricas\n",
        "print(\"\\nVariables categóricas:\")\n",
        "for variable in variables_categoricas:\n",
        "    print(\" -\", variable)"
      ],
      "metadata": {
        "colab": {
          "base_uri": "https://localhost:8080/"
        },
        "id": "mgzoFH0TIeKO",
        "outputId": "0d39077c-448d-411e-fa0f-e35667734fd6"
      },
      "execution_count": 8,
      "outputs": [
        {
          "output_type": "stream",
          "name": "stdout",
          "text": [
            "Variables numéricas:\n",
            " - Pregnancies\n",
            " - Glucose\n",
            " - BloodPressure\n",
            " - SkinThickness\n",
            " - Insulin\n",
            " - BMI\n",
            " - DiabetesPedigreeFunction\n",
            " - Age\n",
            "\n",
            "Variables categóricas:\n",
            " - Outcome\n"
          ]
        }
      ]
    },
    {
      "cell_type": "markdown",
      "source": [
        "### 2. Separe el conjunto de datos en un conjunto de variables predictoras y otro con la variable respuesta."
      ],
      "metadata": {
        "id": "vh5ifshKI_EV"
      }
    },
    {
      "cell_type": "code",
      "source": [
        "# Separar las variables predictoras y la variable respuesta\n",
        "X = diabetes_data.drop('Outcome', axis=1)  # Variables predictoras (todas las columnas excepto 'Outcome')\n",
        "y = diabetes_data['Outcome']  # Variable respuesta ('Outcome')\n",
        "\n",
        "# Mostrar las dimensiones de los conjuntos resultantes\n",
        "print(\"Dimensiones de las variables predictoras (X):\", X.shape)\n",
        "print(\"Dimensiones de la variable respuesta (y):\", y.shape)"
      ],
      "metadata": {
        "colab": {
          "base_uri": "https://localhost:8080/"
        },
        "id": "5Knbjx9mJo-K",
        "outputId": "026304a7-fbd5-4089-8b1d-b22f83105e06"
      },
      "execution_count": 9,
      "outputs": [
        {
          "output_type": "stream",
          "name": "stdout",
          "text": [
            "Dimensiones de las variables predictoras (X): (768, 8)\n",
            "Dimensiones de la variable respuesta (y): (768,)\n"
          ]
        }
      ]
    },
    {
      "cell_type": "code",
      "source": [
        "# Imprimir las primeras filas de X\n",
        "print(\"Primeras filas de las variables predictoras:\")\n",
        "print(X.head())\n",
        "\n",
        "# Imprimir las primeras filas de y\n",
        "print(\"\\nPrimeras filas de la variable respuesta:\")\n",
        "print(y.head())"
      ],
      "metadata": {
        "colab": {
          "base_uri": "https://localhost:8080/"
        },
        "id": "Sk-zpLvpJXNI",
        "outputId": "97b59ae5-1c35-4984-dfd0-036bd97b34be"
      },
      "execution_count": 12,
      "outputs": [
        {
          "output_type": "stream",
          "name": "stdout",
          "text": [
            "Primeras filas de las variables predictoras:\n",
            "   Pregnancies  Glucose  BloodPressure  SkinThickness  Insulin   BMI  \\\n",
            "0            6      148             72             35        0  33.6   \n",
            "1            1       85             66             29        0  26.6   \n",
            "2            8      183             64              0        0  23.3   \n",
            "3            1       89             66             23       94  28.1   \n",
            "4            0      137             40             35      168  43.1   \n",
            "\n",
            "   DiabetesPedigreeFunction  Age  \n",
            "0                     0.627   50  \n",
            "1                     0.351   31  \n",
            "2                     0.672   32  \n",
            "3                     0.167   21  \n",
            "4                     2.288   33  \n",
            "\n",
            "Primeras filas de la variable respuesta:\n",
            "0    1\n",
            "1    0\n",
            "2    1\n",
            "3    0\n",
            "4    1\n",
            "Name: Outcome, dtype: category\n",
            "Categories (2, int64): [0, 1]\n"
          ]
        }
      ]
    },
    {
      "cell_type": "markdown",
      "source": [
        "### 3. A partir de lo anterior, genere conjuntos de datos de entrenamiento y de prueba, separando un 25% de los datos para fines de prueba."
      ],
      "metadata": {
        "id": "jQhj1Sr0KC7w"
      }
    },
    {
      "cell_type": "code",
      "source": [
        "# Dividir los datos en conjuntos de entrenamiento y prueba\n",
        "X_train, X_test, y_train, y_test = train_test_split(X, y, test_size=0.25, random_state=42)\n",
        "\n",
        "# Imprimir el tamaño de los conjuntos de entrenamiento y prueba\n",
        "print(\"Tamaño del conjunto de entrenamiento:\", len(X_train))\n",
        "print(\"Tamaño del conjunto de prueba:\", len(X_test))"
      ],
      "metadata": {
        "colab": {
          "base_uri": "https://localhost:8080/"
        },
        "id": "WOWd6iL4Ka5L",
        "outputId": "98b4ce4c-7573-4202-f67d-e415ccd7ad44"
      },
      "execution_count": 13,
      "outputs": [
        {
          "output_type": "stream",
          "name": "stdout",
          "text": [
            "Tamaño del conjunto de entrenamiento: 576\n",
            "Tamaño del conjunto de prueba: 192\n"
          ]
        }
      ]
    },
    {
      "cell_type": "code",
      "source": [
        "# Mostrar las dimensiones de los conjuntos de entrenamiento y prueba\n",
        "print(\"Dimensiones de X_train:\", X_train.shape)\n",
        "print(\"Dimensiones de y_train:\", y_train.shape)\n",
        "print(\"Dimensiones de X_test:\", X_test.shape)\n",
        "print(\"Dimensiones de y_test:\", y_test.shape)"
      ],
      "metadata": {
        "colab": {
          "base_uri": "https://localhost:8080/"
        },
        "id": "JaX1ZSAqKH9j",
        "outputId": "70efdfdc-a234-462b-9caa-6c20ea6c2e91"
      },
      "execution_count": 15,
      "outputs": [
        {
          "output_type": "stream",
          "name": "stdout",
          "text": [
            "Dimensiones de X_train: (576, 8)\n",
            "Dimensiones de y_train: (576,)\n",
            "Dimensiones de X_test: (192, 8)\n",
            "Dimensiones de y_test: (192,)\n"
          ]
        }
      ]
    },
    {
      "cell_type": "markdown",
      "source": [
        "### 4. Cree un modelo de Regresión Logística (con una semilla igual a 10 para fines de replicabilidad) y ajuste el modelo a los datos de entrenamiento. En este punto es posible que tenga problemas de convergencia del algoritmo. Si es así, intente incrementar el número de iteraciones del algoritmo (max_iter) o probar con un solucionador distinto (solver)."
      ],
      "metadata": {
        "id": "GSTG6sOYKqaw"
      }
    },
    {
      "cell_type": "code",
      "source": [
        "from sklearn.linear_model import LogisticRegression\n",
        "\n",
        "# Crear el modelo de Regresión Logística con una semilla de 10 para replicabilidad\n",
        "logistic_model = LogisticRegression(random_state=10, max_iter=1000)  # Incrementamos el número de iteraciones\n",
        "\n",
        "# Ajustar el modelo a los datos de entrenamiento\n",
        "logistic_model.fit(X_train, y_train)"
      ],
      "metadata": {
        "colab": {
          "base_uri": "https://localhost:8080/",
          "height": 74
        },
        "id": "J0mpRlXKKzGI",
        "outputId": "26cb27a8-cd38-4a16-bdf2-5469426c00dc"
      },
      "execution_count": 17,
      "outputs": [
        {
          "output_type": "execute_result",
          "data": {
            "text/plain": [
              "LogisticRegression(max_iter=1000, random_state=10)"
            ],
            "text/html": [
              "<style>#sk-container-id-2 {color: black;background-color: white;}#sk-container-id-2 pre{padding: 0;}#sk-container-id-2 div.sk-toggleable {background-color: white;}#sk-container-id-2 label.sk-toggleable__label {cursor: pointer;display: block;width: 100%;margin-bottom: 0;padding: 0.3em;box-sizing: border-box;text-align: center;}#sk-container-id-2 label.sk-toggleable__label-arrow:before {content: \"▸\";float: left;margin-right: 0.25em;color: #696969;}#sk-container-id-2 label.sk-toggleable__label-arrow:hover:before {color: black;}#sk-container-id-2 div.sk-estimator:hover label.sk-toggleable__label-arrow:before {color: black;}#sk-container-id-2 div.sk-toggleable__content {max-height: 0;max-width: 0;overflow: hidden;text-align: left;background-color: #f0f8ff;}#sk-container-id-2 div.sk-toggleable__content pre {margin: 0.2em;color: black;border-radius: 0.25em;background-color: #f0f8ff;}#sk-container-id-2 input.sk-toggleable__control:checked~div.sk-toggleable__content {max-height: 200px;max-width: 100%;overflow: auto;}#sk-container-id-2 input.sk-toggleable__control:checked~label.sk-toggleable__label-arrow:before {content: \"▾\";}#sk-container-id-2 div.sk-estimator input.sk-toggleable__control:checked~label.sk-toggleable__label {background-color: #d4ebff;}#sk-container-id-2 div.sk-label input.sk-toggleable__control:checked~label.sk-toggleable__label {background-color: #d4ebff;}#sk-container-id-2 input.sk-hidden--visually {border: 0;clip: rect(1px 1px 1px 1px);clip: rect(1px, 1px, 1px, 1px);height: 1px;margin: -1px;overflow: hidden;padding: 0;position: absolute;width: 1px;}#sk-container-id-2 div.sk-estimator {font-family: monospace;background-color: #f0f8ff;border: 1px dotted black;border-radius: 0.25em;box-sizing: border-box;margin-bottom: 0.5em;}#sk-container-id-2 div.sk-estimator:hover {background-color: #d4ebff;}#sk-container-id-2 div.sk-parallel-item::after {content: \"\";width: 100%;border-bottom: 1px solid gray;flex-grow: 1;}#sk-container-id-2 div.sk-label:hover label.sk-toggleable__label {background-color: #d4ebff;}#sk-container-id-2 div.sk-serial::before {content: \"\";position: absolute;border-left: 1px solid gray;box-sizing: border-box;top: 0;bottom: 0;left: 50%;z-index: 0;}#sk-container-id-2 div.sk-serial {display: flex;flex-direction: column;align-items: center;background-color: white;padding-right: 0.2em;padding-left: 0.2em;position: relative;}#sk-container-id-2 div.sk-item {position: relative;z-index: 1;}#sk-container-id-2 div.sk-parallel {display: flex;align-items: stretch;justify-content: center;background-color: white;position: relative;}#sk-container-id-2 div.sk-item::before, #sk-container-id-2 div.sk-parallel-item::before {content: \"\";position: absolute;border-left: 1px solid gray;box-sizing: border-box;top: 0;bottom: 0;left: 50%;z-index: -1;}#sk-container-id-2 div.sk-parallel-item {display: flex;flex-direction: column;z-index: 1;position: relative;background-color: white;}#sk-container-id-2 div.sk-parallel-item:first-child::after {align-self: flex-end;width: 50%;}#sk-container-id-2 div.sk-parallel-item:last-child::after {align-self: flex-start;width: 50%;}#sk-container-id-2 div.sk-parallel-item:only-child::after {width: 0;}#sk-container-id-2 div.sk-dashed-wrapped {border: 1px dashed gray;margin: 0 0.4em 0.5em 0.4em;box-sizing: border-box;padding-bottom: 0.4em;background-color: white;}#sk-container-id-2 div.sk-label label {font-family: monospace;font-weight: bold;display: inline-block;line-height: 1.2em;}#sk-container-id-2 div.sk-label-container {text-align: center;}#sk-container-id-2 div.sk-container {/* jupyter's `normalize.less` sets `[hidden] { display: none; }` but bootstrap.min.css set `[hidden] { display: none !important; }` so we also need the `!important` here to be able to override the default hidden behavior on the sphinx rendered scikit-learn.org. See: https://github.com/scikit-learn/scikit-learn/issues/21755 */display: inline-block !important;position: relative;}#sk-container-id-2 div.sk-text-repr-fallback {display: none;}</style><div id=\"sk-container-id-2\" class=\"sk-top-container\"><div class=\"sk-text-repr-fallback\"><pre>LogisticRegression(max_iter=1000, random_state=10)</pre><b>In a Jupyter environment, please rerun this cell to show the HTML representation or trust the notebook. <br />On GitHub, the HTML representation is unable to render, please try loading this page with nbviewer.org.</b></div><div class=\"sk-container\" hidden><div class=\"sk-item\"><div class=\"sk-estimator sk-toggleable\"><input class=\"sk-toggleable__control sk-hidden--visually\" id=\"sk-estimator-id-2\" type=\"checkbox\" checked><label for=\"sk-estimator-id-2\" class=\"sk-toggleable__label sk-toggleable__label-arrow\">LogisticRegression</label><div class=\"sk-toggleable__content\"><pre>LogisticRegression(max_iter=1000, random_state=10)</pre></div></div></div></div></div>"
            ]
          },
          "metadata": {},
          "execution_count": 17
        }
      ]
    },
    {
      "cell_type": "markdown",
      "source": [
        "### 5. Genere predicciones con los datos de las variables predictoras del conjunto de datos de prueba."
      ],
      "metadata": {
        "id": "nhsKEaBnLOov"
      }
    },
    {
      "cell_type": "code",
      "source": [
        "# Generar predicciones con los datos de las variables predictoras del conjunto de datos de prueba\n",
        "y_pred = modelo.predict(X_test)\n",
        "\n",
        "# Imprimir todas las predicciones\n",
        "print(\"Todas las predicciones:\")\n",
        "print(y_pred)"
      ],
      "metadata": {
        "colab": {
          "base_uri": "https://localhost:8080/"
        },
        "id": "5MXHz-N4LT4W",
        "outputId": "88cdcf33-e680-4fa5-845e-8e93fa199d23"
      },
      "execution_count": 18,
      "outputs": [
        {
          "output_type": "stream",
          "name": "stdout",
          "text": [
            "Todas las predicciones:\n",
            "[0 0 0 0 0 0 0 1 1 1 0 1 0 0 0 0 0 0 1 1 0 0 1 0 1 1 0 0 0 0 1 1 1 1 1 1 1\n",
            " 0 1 1 0 1 1 0 0 1 1 0 0 1 0 1 1 0 0 0 1 0 0 1 1 0 0 0 0 1 0 1 0 1 1 0 0 0\n",
            " 0 1 0 0 0 0 1 0 0 0 0 1 1 0 0 0 0 0 0 1 1 1 0 0 1 0 1 0 1 1 1 0 0 1 0 0 0\n",
            " 0 0 1 0 0 1 0 0 1 0 0 0 0 0 0 0 1 1 1 1 1 0 0 1 0 0 1 1 0 0 0 0 0 0 0 0 0\n",
            " 0 1 0 0 0 0 0 0 0 1 1 0 1 1 0 0 0 1 0 0 1 1 1 0 0 1 1 0 0 0 0 0 1 1 0 1 1\n",
            " 0 0 0 1 0 0 0]\n"
          ]
        }
      ]
    },
    {
      "cell_type": "code",
      "source": [
        "# Generar predicciones con los datos de prueba\n",
        "predictions = logistic_model.predict(X_test)\n",
        "\n",
        "# Mostrar las primeras 10 predicciones\n",
        "print(\"Predicciones:\", predictions[:10])"
      ],
      "metadata": {
        "colab": {
          "base_uri": "https://localhost:8080/"
        },
        "id": "C7uknnXaLnMT",
        "outputId": "c17d492e-1e4e-4767-a8bf-ec20bad29542"
      },
      "execution_count": 20,
      "outputs": [
        {
          "output_type": "stream",
          "name": "stdout",
          "text": [
            "Predicciones: [0 0 0 0 0 0 0 1 1 1]\n"
          ]
        }
      ]
    },
    {
      "cell_type": "markdown",
      "source": [
        "### 6. Muestre la matriz de confusión como un objeto numpy.ndarray."
      ],
      "metadata": {
        "id": "Il4w2pTJL-qH"
      }
    },
    {
      "cell_type": "code",
      "source": [
        "# Calcular la matriz de confusión\n",
        "matriz_confusion = confusion_matrix(y_test, y_pred)\n",
        "\n",
        "# Imprimir la matriz de confusión\n",
        "print(\"Matriz de confusión:\")\n",
        "print(matriz_confusion)"
      ],
      "metadata": {
        "colab": {
          "base_uri": "https://localhost:8080/"
        },
        "id": "_4MwmOK7MHoD",
        "outputId": "86c84af6-2229-47b0-8885-6f4757df026d"
      },
      "execution_count": 21,
      "outputs": [
        {
          "output_type": "stream",
          "name": "stdout",
          "text": [
            "Matriz de confusión:\n",
            "[[95 28]\n",
            " [25 44]]\n"
          ]
        }
      ]
    },
    {
      "cell_type": "code",
      "source": [
        "# Otra forma de Calcular la matriz de confusión\n",
        "conf_matrix = confusion_matrix(y_test, predictions)\n",
        "\n",
        "# Mostrar la matriz de confusión como un objeto numpy.ndarray\n",
        "print(\"Matriz de Confusión:\")\n",
        "print(conf_matrix)\n",
        "print(\"Tipo de datos:\", type(conf_matrix))"
      ],
      "metadata": {
        "colab": {
          "base_uri": "https://localhost:8080/"
        },
        "id": "_Qn9Q_TuMDG1",
        "outputId": "159b1fba-bd54-4f46-90bc-9f64e13fc0a1"
      },
      "execution_count": 23,
      "outputs": [
        {
          "output_type": "stream",
          "name": "stdout",
          "text": [
            "Matriz de Confusión:\n",
            "[[95 28]\n",
            " [25 44]]\n",
            "Tipo de datos: <class 'numpy.ndarray'>\n"
          ]
        }
      ]
    },
    {
      "cell_type": "markdown",
      "source": [
        "### 7. Grafique la matriz de confusión usando un mapa de calor (Heatmap)"
      ],
      "metadata": {
        "id": "Db2QmdkoMYlX"
      }
    },
    {
      "cell_type": "code",
      "source": [
        "import seaborn as sns\n",
        "import matplotlib.pyplot as plt\n",
        "\n",
        "# Graficar la matriz de confusión como un mapa de calor\n",
        "plt.figure(figsize=(8, 6))\n",
        "sns.heatmap(conf_matrix, annot=True, fmt='d', cmap='Blues')\n",
        "plt.title('Matriz de Confusión')\n",
        "plt.xlabel('Etiqueta Predicha')\n",
        "plt.ylabel('Etiqueta Verdadera')\n",
        "plt.show()"
      ],
      "metadata": {
        "colab": {
          "base_uri": "https://localhost:8080/",
          "height": 564
        },
        "id": "_WBCEAbiMcjT",
        "outputId": "76f83142-6032-45ae-b5ce-75ed31052bf7"
      },
      "execution_count": 24,
      "outputs": [
        {
          "output_type": "display_data",
          "data": {
            "text/plain": [
              "<Figure size 800x600 with 2 Axes>"
            ],
            "image/png": "[encoded data removed]"
          },
          "metadata": {}
        }
      ]
    },
    {
      "cell_type": "code",
      "source": [
        "# Ora forma de crear un mapa de calor con la matriz de confusión\n",
        "sns.heatmap(matriz_confusion, annot=True, fmt='d', cmap='Blues')\n",
        "\n",
        "# Agregar títulos y etiquetas\n",
        "plt.title('Matriz de confusión')\n",
        "plt.xlabel('Predicho')\n",
        "plt.ylabel('Real')\n",
        "\n",
        "# Mostrar el gráfico\n",
        "plt.show()"
      ],
      "metadata": {
        "colab": {
          "base_uri": "https://localhost:8080/",
          "height": 472
        },
        "id": "_nL1FB0RM7E1",
        "outputId": "778aa7e9-1fc0-4eee-c4a0-070e3e4a193f"
      },
      "execution_count": 26,
      "outputs": [
        {
          "output_type": "display_data",
          "data": {
            "text/plain": [
              "<Figure size 640x480 with 2 Axes>"
            ],
            "image/png": "[encoded data removed]"
          },
          "metadata": {}
        }
      ]
    },
    {
      "cell_type": "markdown",
      "source": [
        "### 8. Genere las métricas de evaluación a este problema de clasificación. Comente los resultados."
      ],
      "metadata": {
        "id": "jql0asHjM_hM"
      }
    },
    {
      "cell_type": "markdown",
      "source": [
        "Para evaluar el desempeño del modelo de Regresión Logística en el problema de clasificación, podemos calcular varias métricas de evaluación comunes, como la precisión, la sensibilidad, la especificidad, el puntaje F1 y el área bajo la curva ROC (AUC-ROC). Aquí está el código para calcular estas métricas:"
      ],
      "metadata": {
        "id": "hlz6HkERNw8H"
      }
    },
    {
      "cell_type": "code",
      "source": [
        "from sklearn.metrics import accuracy_score, precision_score, recall_score, f1_score, roc_auc_score\n",
        "\n",
        "# Calcular métricas de evaluación\n",
        "accuracy = accuracy_score(y_test, predictions)\n",
        "precision = precision_score(y_test, predictions)\n",
        "recall = recall_score(y_test, predictions)\n",
        "f1 = f1_score(y_test, predictions)\n",
        "roc_auc = roc_auc_score(y_test, predictions)\n",
        "\n",
        "# Mostrar las métricas\n",
        "print(\"Accuracy:\", accuracy)\n",
        "print(\"Precision:\", precision)\n",
        "print(\"Recall:\", recall)\n",
        "print(\"F1 Score:\", f1)\n",
        "print(\"ROC AUC Score:\", roc_auc)"
      ],
      "metadata": {
        "colab": {
          "base_uri": "https://localhost:8080/"
        },
        "id": "FAMshGgENwkP",
        "outputId": "537345eb-f4c0-4d48-b1b8-e19947d9e830"
      },
      "execution_count": 28,
      "outputs": [
        {
          "output_type": "stream",
          "name": "stdout",
          "text": [
            "Accuracy: 0.7239583333333334\n",
            "Precision: 0.6111111111111112\n",
            "Recall: 0.6376811594202898\n",
            "F1 Score: 0.624113475177305\n",
            "ROC AUC Score: 0.7050194414987627\n"
          ]
        }
      ]
    },
    {
      "cell_type": "code",
      "source": [
        "# Otra forma de calcular las métricas de evaluación\n",
        "accuracy = accuracy_score(y_test, y_pred)\n",
        "precision = precision_score(y_test, y_pred)\n",
        "recall = recall_score(y_test, y_pred)\n",
        "f1 = f1_score(y_test, y_pred)\n",
        "\n",
        "# Imprimir las métricas de evaluación\n",
        "print(\"Métricas de evaluación:\")\n",
        "print(\" - Precisión: \", accuracy)\n",
        "print(\" - Exactitud: \", precision)\n",
        "print(\" - Sensibilidad: \", recall)\n",
        "print(\" - Puntuación F1: \", f1)"
      ],
      "metadata": {
        "colab": {
          "base_uri": "https://localhost:8080/"
        },
        "id": "cQXax2vaNEsJ",
        "outputId": "a984970a-39cf-4e2f-ab70-2360f1fa063e"
      },
      "execution_count": 29,
      "outputs": [
        {
          "output_type": "stream",
          "name": "stdout",
          "text": [
            "Métricas de evaluación:\n",
            " - Precisión:  0.7239583333333334\n",
            " - Exactitud:  0.6111111111111112\n",
            " - Sensibilidad:  0.6376811594202898\n",
            " - Puntuación F1:  0.624113475177305\n"
          ]
        }
      ]
    },
    {
      "cell_type": "markdown",
      "source": [
        "Estas métricas proporcionan una comprensión detallada del rendimiento del modelo en la tarea de clasificación de pacientes con diabetes. Aquí hay una interpretación de cada métrica:\n",
        "\n",
        "Accuracy (Precisión): Es la proporción de predicciones correctas sobre el total de predicciones. Una alta precisión indica que el modelo hace un buen trabajo en la clasificación de ambos grupos (positivos y negativos).\n",
        "\n",
        "Precision (Precisión): Es la proporción de predicciones positivas correctas sobre el total de predicciones positivas. Indica la calidad de las predicciones positivas.\n",
        "\n",
        "Recall (Sensibilidad): Es la proporción de casos positivos que fueron correctamente identificados por el modelo. Indica la capacidad del modelo para identificar correctamente los casos positivos.\n",
        "\n",
        "F1 Score: Es la media armónica de precisión y recall. Proporciona un equilibrio entre precision y recall. Es útil cuando hay un desequilibrio en las clases de predicción.\n",
        "\n",
        "ROC AUC Score: Es el área bajo la curva ROC (Receiver Operating Characteristic). Proporciona una medida del rendimiento del modelo en la clasificación binaria. Un valor de 1 indica un modelo perfecto, mientras que un valor de 0.5 indica un rendimiento aleatorio."
      ],
      "metadata": {
        "id": "Y0eX7Hc3OG2D"
      }
    },
    {
      "cell_type": "markdown",
      "source": [
        "### 9. Genere la curva ROC y la métrica AUC. Comente los resultados."
      ],
      "metadata": {
        "id": "0WzxGXmlNe9b"
      }
    },
    {
      "cell_type": "code",
      "source": [
        "# Calcular las tasas de verdaderos y falsos positivos\n",
        "fpr, tpr, _ = roc_curve(y_test, modelo.predict_proba(X_test)[:, 1])\n",
        "\n",
        "# Calcular la métrica AUC\n",
        "roc_auc = auc(fpr, tpr)\n",
        "\n",
        "# Crear el gráfico de la curva ROC\n",
        "plt.figure(figsize=(8, 6))\n",
        "plt.plot(fpr, tpr, color='darkorange', lw=2, label='ROC curve (AUC = %0.2f)' % roc_auc)\n",
        "plt.plot([0, 1], [0, 1], color='navy', lw=2, linestyle='--')\n",
        "plt.xlim([0.0, 1.0])\n",
        "plt.ylim([0.0, 1.05])\n",
        "plt.xlabel('Tasa de falsos positivos')\n",
        "plt.ylabel('Tasa de verdaderos positivos')\n",
        "plt.title('Curva ROC')\n",
        "plt.legend(loc=\"lower right\")\n",
        "\n",
        "# Mostrar el gráfico\n",
        "plt.show()"
      ],
      "metadata": {
        "colab": {
          "base_uri": "https://localhost:8080/",
          "height": 564
        },
        "id": "scZaCxK_OhzK",
        "outputId": "2799162f-0575-448d-cdb2-7042d822adcd"
      },
      "execution_count": 31,
      "outputs": [
        {
          "output_type": "display_data",
          "data": {
            "text/plain": [
              "<Figure size 800x600 with 1 Axes>"
            ],
            "image/png": "[encoded data removed]"
          },
          "metadata": {}
        }
      ]
    },
    {
      "cell_type": "code",
      "source": [
        "#OTRA FORMA\n",
        "from sklearn.metrics import roc_curve, auc\n",
        "\n",
        "# Calcular la probabilidad de la clase positiva\n",
        "y_proba = logistic_model.predict_proba(X_test)[:,1]\n",
        "\n",
        "# Calcular la curva ROC\n",
        "fpr, tpr, thresholds = roc_curve(y_test, y_proba)\n",
        "\n",
        "# Calcular el área bajo la curva ROC (AUC)\n",
        "roc_auc = auc(fpr, tpr)\n",
        "\n",
        "# Graficar la curva ROC\n",
        "plt.figure(figsize=(8, 6))\n",
        "plt.plot(fpr, tpr, color='blue', lw=2, label='Curva ROC (AUC = %0.2f)' % roc_auc)\n",
        "plt.plot([0, 1], [0, 1], color='gray', lw=1, linestyle='--')\n",
        "plt.xlabel('Tasa de Falsos Positivos')\n",
        "plt.ylabel('Tasa de Verdaderos Positivos')\n",
        "plt.title('Curva ROC')\n",
        "plt.legend(loc=\"lower right\")\n",
        "plt.show()\n",
        "\n",
        "# Mostrar el valor del área bajo la curva ROC (AUC)\n",
        "print(\"Área bajo la curva ROC (AUC):\", roc_auc)"
      ],
      "metadata": {
        "colab": {
          "base_uri": "https://localhost:8080/",
          "height": 581
        },
        "id": "Fgf__uEXNnre",
        "outputId": "1a0b923d-ad9e-4e5e-dc5b-908b755562ed"
      },
      "execution_count": 30,
      "outputs": [
        {
          "output_type": "display_data",
          "data": {
            "text/plain": [
              "<Figure size 800x600 with 1 Axes>"
            ],
            "image/png": "[encoded data removed]"
          },
          "metadata": {}
        },
        {
          "output_type": "stream",
          "name": "stdout",
          "text": [
            "Área bajo la curva ROC (AUC): 0.7921527041357369\n"
          ]
        }
      ]
    },
    {
      "cell_type": "markdown",
      "source": [
        "La curva ROC es una representación gráfica de la relación entre la tasa de falsos positivos (FPR) y la tasa de verdaderos positivos (TPR) para diferentes umbrales de clasificación. La AUC proporciona una medida cuantitativa del rendimiento del modelo en la clasificación binaria. Una AUC cercana a 1 indica un modelo con un buen poder de discriminación, mientras que una AUC cercana a 0.5 indica un rendimiento aleatorio.\n",
        "\n",
        "Interpretación de la curva ROC y el AUC:\n",
        "\n",
        "Un AUC de 0.79 indica que el modelo tiene un buen poder de discriminación para distinguir entre las muestras positivas y negativas, aunque no es perfecto.\n",
        "Cuanto más alejada esté la curva ROC del punto de referencia (línea diagonal), mejor será el rendimiento del modelo en la clasificación.\n",
        "Aunque un AUC de 0.79 no es cercano a 1, aún indica un rendimiento decente del modelo en la tarea de clasificación.\n",
        "En resumen, el modelo de Regresión Logística muestra un rendimiento prometedor en la clasificación de pacientes con diabetes, con un AUC de 0.79, lo que sugiere que puede distinguir entre pacientes diabéticos y no diabéticos con una precisión aceptable. Sin embargo, siempre es importante considerar otras métricas de evaluación y el contexto específico del problema antes de sacar conclusiones definitivas sobre la calidad del modelo."
      ],
      "metadata": {
        "id": "McpTj4iJO4aB"
      }
    }
  ]
}