{
  "nbformat": 4,
  "nbformat_minor": 0,
  "metadata": {
    "colab": {
      "provenance": []
    },
    "kernelspec": {
      "name": "python3",
      "display_name": "Python 3"
    },
    "language_info": {
      "name": "python"
    }
  },
  "cells": [
    {
      "cell_type": "markdown",
      "source": [
        "### **Ejercicios Planteados**"
      ],
      "metadata": {
        "id": "LsfF9wFIQmfd"
      }
    },
    {
      "cell_type": "markdown",
      "source": [
        "El objetivo del ejercicio actual es utilizar medidas físicas para predecir la edad del abulón, usando el algoritmo K-NN"
      ],
      "metadata": {
        "id": "LPM0DSEZQm0d"
      }
    },
    {
      "cell_type": "code",
      "source": [
        "# Importar las bibliotecas necesarias\n",
        "import pandas as pd\n",
        "import numpy as np\n",
        "import seaborn as sns\n",
        "import matplotlib.pyplot as plt\n",
        "from sklearn.model_selection import train_test_split\n",
        "from sklearn.linear_model import LogisticRegression\n",
        "from sklearn.metrics import confusion_matrix\n",
        "from sklearn.metrics import accuracy_score, precision_score, recall_score, f1_score\n",
        "from sklearn.metrics import roc_curve, auc\n",
        "from sklearn.preprocessing import StandardScaler\n",
        "from sklearn.neighbors import KNeighborsRegressor\n",
        "from sklearn.metrics import mean_squared_error\n",
        "from scipy.spatial.distance import pdist, squareform"
      ],
      "metadata": {
        "id": "plIEl1whQtpl"
      },
      "execution_count": 14,
      "outputs": []
    },
    {
      "cell_type": "code",
      "source": [
        "# Cargar datos\n",
        "url = \"https://archive.ics.uci.edu/ml/machine-learning-databases/abalone/abalone.data\"\n",
        "abalone = pd.read_csv(url, header=None)\n",
        "abalone.columns = [\n",
        "    \"Sex\",\n",
        "    \"Length\",\n",
        "    \"Diameter\",\n",
        "    \"Height\",\n",
        "    \"Whole weight\",\n",
        "    \"Shucked weight\",\n",
        "    \"Viscera weight\",\n",
        "    \"Shell weight\",\n",
        "    \"Rings\",\n",
        "]\n",
        "\n",
        "abalone.head()"
      ],
      "metadata": {
        "colab": {
          "base_uri": "https://localhost:8080/",
          "height": 204
        },
        "id": "BPtl7_cYSl7T",
        "outputId": "710323fa-be85-49b9-8806-e475a2cdad88"
      },
      "execution_count": 15,
      "outputs": [
        {
          "output_type": "execute_result",
          "data": {
            "text/plain": [
              "  Sex  Length  Diameter  Height  Whole weight  Shucked weight  Viscera weight  \\\n",
              "0   M   0.455     0.365   0.095        0.5140          0.2245          0.1010   \n",
              "1   M   0.350     0.265   0.090        0.2255          0.0995          0.0485   \n",
              "2   F   0.530     0.420   0.135        0.6770          0.2565          0.1415   \n",
              "3   M   0.440     0.365   0.125        0.5160          0.2155          0.1140   \n",
              "4   I   0.330     0.255   0.080        0.2050          0.0895          0.0395   \n",
              "\n",
              "   Shell weight  Rings  \n",
              "0         0.150     15  \n",
              "1         0.070      7  \n",
              "2         0.210      9  \n",
              "3         0.155     10  \n",
              "4         0.055      7  "
            ],
            "text/html": [
              "\n",
              "  <div id=\"df-3bc76528-aa52-431a-98c4-f66213046994\" class=\"colab-df-container\">\n",
              "    <div>\n",
              "<style scoped>\n",
              "    .dataframe tbody tr th:only-of-type {\n",
              "        vertical-align: middle;\n",
              "    }\n",
              "\n",
              "    .dataframe tbody tr th {\n",
              "        vertical-align: top;\n",
              "    }\n",
              "\n",
              "    .dataframe thead th {\n",
              "        text-align: right;\n",
              "    }\n",
              "</style>\n",
              "<table border=\"1\" class=\"dataframe\">\n",
              "  <thead>\n",
              "    <tr style=\"text-align: right;\">\n",
              "      <th></th>\n",
              "      <th>Sex</th>\n",
              "      <th>Length</th>\n",
              "      <th>Diameter</th>\n",
              "      <th>Height</th>\n",
              "      <th>Whole weight</th>\n",
              "      <th>Shucked weight</th>\n",
              "      <th>Viscera weight</th>\n",
              "      <th>Shell weight</th>\n",
              "      <th>Rings</th>\n",
              "    </tr>\n",
              "  </thead>\n",
              "  <tbody>\n",
              "    <tr>\n",
              "      <th>0</th>\n",
              "      <td>M</td>\n",
              "      <td>0.455</td>\n",
              "      <td>0.365</td>\n",
              "      <td>0.095</td>\n",
              "      <td>0.5140</td>\n",
              "      <td>0.2245</td>\n",
              "      <td>0.1010</td>\n",
              "      <td>0.150</td>\n",
              "      <td>15</td>\n",
              "    </tr>\n",
              "    <tr>\n",
              "      <th>1</th>\n",
              "      <td>M</td>\n",
              "      <td>0.350</td>\n",
              "      <td>0.265</td>\n",
              "      <td>0.090</td>\n",
              "      <td>0.2255</td>\n",
              "      <td>0.0995</td>\n",
              "      <td>0.0485</td>\n",
              "      <td>0.070</td>\n",
              "      <td>7</td>\n",
              "    </tr>\n",
              "    <tr>\n",
              "      <th>2</th>\n",
              "      <td>F</td>\n",
              "      <td>0.530</td>\n",
              "      <td>0.420</td>\n",
              "      <td>0.135</td>\n",
              "      <td>0.6770</td>\n",
              "      <td>0.2565</td>\n",
              "      <td>0.1415</td>\n",
              "      <td>0.210</td>\n",
              "      <td>9</td>\n",
              "    </tr>\n",
              "    <tr>\n",
              "      <th>3</th>\n",
              "      <td>M</td>\n",
              "      <td>0.440</td>\n",
              "      <td>0.365</td>\n",
              "      <td>0.125</td>\n",
              "      <td>0.5160</td>\n",
              "      <td>0.2155</td>\n",
              "      <td>0.1140</td>\n",
              "      <td>0.155</td>\n",
              "      <td>10</td>\n",
              "    </tr>\n",
              "    <tr>\n",
              "      <th>4</th>\n",
              "      <td>I</td>\n",
              "      <td>0.330</td>\n",
              "      <td>0.255</td>\n",
              "      <td>0.080</td>\n",
              "      <td>0.2050</td>\n",
              "      <td>0.0895</td>\n",
              "      <td>0.0395</td>\n",
              "      <td>0.055</td>\n",
              "      <td>7</td>\n",
              "    </tr>\n",
              "  </tbody>\n",
              "</table>\n",
              "</div>\n",
              "    <div class=\"colab-df-buttons\">\n",
              "\n",
              "  <div class=\"colab-df-container\">\n",
              "    <button class=\"colab-df-convert\" onclick=\"convertToInteractive('df-3bc76528-aa52-431a-98c4-f66213046994')\"\n",
              "            title=\"Convert this dataframe to an interactive table.\"\n",
              "            style=\"display:none;\">\n",
              "\n",
              "  <svg xmlns=\"http://www.w3.org/2000/svg\" height=\"24px\" viewBox=\"0 -960 960 960\">\n",
              "    <path d=\"M120-120v-720h720v720H120Zm60-500h600v-160H180v160Zm220 220h160v-160H400v160Zm0 220h160v-160H400v160ZM180-400h160v-160H180v160Zm440 0h160v-160H620v160ZM180-180h160v-160H180v160Zm440 0h160v-160H620v160Z\"/>\n",
              "  </svg>\n",
              "    </button>\n",
              "\n",
              "  <style>\n",
              "    .colab-df-container {\n",
              "      display:flex;\n",
              "      gap: 12px;\n",
              "    }\n",
              "\n",
              "    .colab-df-convert {\n",
              "      background-color: #E8F0FE;\n",
              "      border: none;\n",
              "      border-radius: 50%;\n",
              "      cursor: pointer;\n",
              "      display: none;\n",
              "      fill: #1967D2;\n",
              "      height: 32px;\n",
              "      padding: 0 0 0 0;\n",
              "      width: 32px;\n",
              "    }\n",
              "\n",
              "    .colab-df-convert:hover {\n",
              "      background-color: #E2EBFA;\n",
              "      box-shadow: 0px 1px 2px rgba(60, 64, 67, 0.3), 0px 1px 3px 1px rgba(60, 64, 67, 0.15);\n",
              "      fill: #174EA6;\n",
              "    }\n",
              "\n",
              "    .colab-df-buttons div {\n",
              "      margin-bottom: 4px;\n",
              "    }\n",
              "\n",
              "    [theme=dark] .colab-df-convert {\n",
              "      background-color: #3B4455;\n",
              "      fill: #D2E3FC;\n",
              "    }\n",
              "\n",
              "    [theme=dark] .colab-df-convert:hover {\n",
              "      background-color: #434B5C;\n",
              "      box-shadow: 0px 1px 3px 1px rgba(0, 0, 0, 0.15);\n",
              "      filter: drop-shadow(0px 1px 2px rgba(0, 0, 0, 0.3));\n",
              "      fill: #FFFFFF;\n",
              "    }\n",
              "  </style>\n",
              "\n",
              "    <script>\n",
              "      const buttonEl =\n",
              "        document.querySelector('#df-3bc76528-aa52-431a-98c4-f66213046994 button.colab-df-convert');\n",
              "      buttonEl.style.display =\n",
              "        google.colab.kernel.accessAllowed ? 'block' : 'none';\n",
              "\n",
              "      async function convertToInteractive(key) {\n",
              "        const element = document.querySelector('#df-3bc76528-aa52-431a-98c4-f66213046994');\n",
              "        const dataTable =\n",
              "          await google.colab.kernel.invokeFunction('convertToInteractive',\n",
              "                                                    [key], {});\n",
              "        if (!dataTable) return;\n",
              "\n",
              "        const docLinkHtml = 'Like what you see? Visit the ' +\n",
              "          '<a target=\"_blank\" href=https://colab.research.google.com/notebooks/data_table.ipynb>data table notebook</a>'\n",
              "          + ' to learn more about interactive tables.';\n",
              "        element.innerHTML = '';\n",
              "        dataTable['output_type'] = 'display_data';\n",
              "        await google.colab.output.renderOutput(dataTable, element);\n",
              "        const docLink = document.createElement('div');\n",
              "        docLink.innerHTML = docLinkHtml;\n",
              "        element.appendChild(docLink);\n",
              "      }\n",
              "    </script>\n",
              "  </div>\n",
              "\n",
              "\n",
              "<div id=\"df-edcfb39b-8370-4726-a8f5-5a75058c8c54\">\n",
              "  <button class=\"colab-df-quickchart\" onclick=\"quickchart('df-edcfb39b-8370-4726-a8f5-5a75058c8c54')\"\n",
              "            title=\"Suggest charts\"\n",
              "            style=\"display:none;\">\n",
              "\n",
              "<svg xmlns=\"http://www.w3.org/2000/svg\" height=\"24px\"viewBox=\"0 0 24 24\"\n",
              "     width=\"24px\">\n",
              "    <g>\n",
              "        <path d=\"M19 3H5c-1.1 0-2 .9-2 2v14c0 1.1.9 2 2 2h14c1.1 0 2-.9 2-2V5c0-1.1-.9-2-2-2zM9 17H7v-7h2v7zm4 0h-2V7h2v10zm4 0h-2v-4h2v4z\"/>\n",
              "    </g>\n",
              "</svg>\n",
              "  </button>\n",
              "\n",
              "<style>\n",
              "  .colab-df-quickchart {\n",
              "      --bg-color: #E8F0FE;\n",
              "      --fill-color: #1967D2;\n",
              "      --hover-bg-color: #E2EBFA;\n",
              "      --hover-fill-color: #174EA6;\n",
              "      --disabled-fill-color: #AAA;\n",
              "      --disabled-bg-color: #DDD;\n",
              "  }\n",
              "\n",
              "  [theme=dark] .colab-df-quickchart {\n",
              "      --bg-color: #3B4455;\n",
              "      --fill-color: #D2E3FC;\n",
              "      --hover-bg-color: #434B5C;\n",
              "      --hover-fill-color: #FFFFFF;\n",
              "      --disabled-bg-color: #3B4455;\n",
              "      --disabled-fill-color: #666;\n",
              "  }\n",
              "\n",
              "  .colab-df-quickchart {\n",
              "    background-color: var(--bg-color);\n",
              "    border: none;\n",
              "    border-radius: 50%;\n",
              "    cursor: pointer;\n",
              "    display: none;\n",
              "    fill: var(--fill-color);\n",
              "    height: 32px;\n",
              "    padding: 0;\n",
              "    width: 32px;\n",
              "  }\n",
              "\n",
              "  .colab-df-quickchart:hover {\n",
              "    background-color: var(--hover-bg-color);\n",
              "    box-shadow: 0 1px 2px rgba(60, 64, 67, 0.3), 0 1px 3px 1px rgba(60, 64, 67, 0.15);\n",
              "    fill: var(--button-hover-fill-color);\n",
              "  }\n",
              "\n",
              "  .colab-df-quickchart-complete:disabled,\n",
              "  .colab-df-quickchart-complete:disabled:hover {\n",
              "    background-color: var(--disabled-bg-color);\n",
              "    fill: var(--disabled-fill-color);\n",
              "    box-shadow: none;\n",
              "  }\n",
              "\n",
              "  .colab-df-spinner {\n",
              "    border: 2px solid var(--fill-color);\n",
              "    border-color: transparent;\n",
              "    border-bottom-color: var(--fill-color);\n",
              "    animation:\n",
              "      spin 1s steps(1) infinite;\n",
              "  }\n",
              "\n",
              "  @keyframes spin {\n",
              "    0% {\n",
              "      border-color: transparent;\n",
              "      border-bottom-color: var(--fill-color);\n",
              "      border-left-color: var(--fill-color);\n",
              "    }\n",
              "    20% {\n",
              "      border-color: transparent;\n",
              "      border-left-color: var(--fill-color);\n",
              "      border-top-color: var(--fill-color);\n",
              "    }\n",
              "    30% {\n",
              "      border-color: transparent;\n",
              "      border-left-color: var(--fill-color);\n",
              "      border-top-color: var(--fill-color);\n",
              "      border-right-color: var(--fill-color);\n",
              "    }\n",
              "    40% {\n",
              "      border-color: transparent;\n",
              "      border-right-color: var(--fill-color);\n",
              "      border-top-color: var(--fill-color);\n",
              "    }\n",
              "    60% {\n",
              "      border-color: transparent;\n",
              "      border-right-color: var(--fill-color);\n",
              "    }\n",
              "    80% {\n",
              "      border-color: transparent;\n",
              "      border-right-color: var(--fill-color);\n",
              "      border-bottom-color: var(--fill-color);\n",
              "    }\n",
              "    90% {\n",
              "      border-color: transparent;\n",
              "      border-bottom-color: var(--fill-color);\n",
              "    }\n",
              "  }\n",
              "</style>\n",
              "\n",
              "  <script>\n",
              "    async function quickchart(key) {\n",
              "      const quickchartButtonEl =\n",
              "        document.querySelector('#' + key + ' button');\n",
              "      quickchartButtonEl.disabled = true;  // To prevent multiple clicks.\n",
              "      quickchartButtonEl.classList.add('colab-df-spinner');\n",
              "      try {\n",
              "        const charts = await google.colab.kernel.invokeFunction(\n",
              "            'suggestCharts', [key], {});\n",
              "      } catch (error) {\n",
              "        console.error('Error during call to suggestCharts:', error);\n",
              "      }\n",
              "      quickchartButtonEl.classList.remove('colab-df-spinner');\n",
              "      quickchartButtonEl.classList.add('colab-df-quickchart-complete');\n",
              "    }\n",
              "    (() => {\n",
              "      let quickchartButtonEl =\n",
              "        document.querySelector('#df-edcfb39b-8370-4726-a8f5-5a75058c8c54 button');\n",
              "      quickchartButtonEl.style.display =\n",
              "        google.colab.kernel.accessAllowed ? 'block' : 'none';\n",
              "    })();\n",
              "  </script>\n",
              "</div>\n",
              "\n",
              "    </div>\n",
              "  </div>\n"
            ],
            "application/vnd.google.colaboratory.intrinsic+json": {
              "type": "dataframe",
              "variable_name": "abalone",
              "summary": "{\n  \"name\": \"abalone\",\n  \"rows\": 4177,\n  \"fields\": [\n    {\n      \"column\": \"Sex\",\n      \"properties\": {\n        \"dtype\": \"category\",\n        \"num_unique_values\": 3,\n        \"samples\": [\n          \"M\",\n          \"F\",\n          \"I\"\n        ],\n        \"semantic_type\": \"\",\n        \"description\": \"\"\n      }\n    },\n    {\n      \"column\": \"Length\",\n      \"properties\": {\n        \"dtype\": \"number\",\n        \"std\": 0.12009291256479956,\n        \"min\": 0.075,\n        \"max\": 0.815,\n        \"num_unique_values\": 134,\n        \"samples\": [\n          0.815,\n          0.65,\n          0.29\n        ],\n        \"semantic_type\": \"\",\n        \"description\": \"\"\n      }\n    },\n    {\n      \"column\": \"Diameter\",\n      \"properties\": {\n        \"dtype\": \"number\",\n        \"std\": 0.09923986613365945,\n        \"min\": 0.055,\n        \"max\": 0.65,\n        \"num_unique_values\": 111,\n        \"samples\": [\n          0.09,\n          0.35,\n          0.3\n        ],\n        \"semantic_type\": \"\",\n        \"description\": \"\"\n      }\n    },\n    {\n      \"column\": \"Height\",\n      \"properties\": {\n        \"dtype\": \"number\",\n        \"std\": 0.041827056607257274,\n        \"min\": 0.0,\n        \"max\": 1.13,\n        \"num_unique_values\": 51,\n        \"samples\": [\n          0.235,\n          0.035,\n          0.015\n        ],\n        \"semantic_type\": \"\",\n        \"description\": \"\"\n      }\n    },\n    {\n      \"column\": \"Whole weight\",\n      \"properties\": {\n        \"dtype\": \"number\",\n        \"std\": 0.4903890182309977,\n        \"min\": 0.002,\n        \"max\": 2.8255,\n        \"num_unique_values\": 2429,\n        \"samples\": [\n          1.2825,\n          1.09,\n          0.131\n        ],\n        \"semantic_type\": \"\",\n        \"description\": \"\"\n      }\n    },\n    {\n      \"column\": \"Shucked weight\",\n      \"properties\": {\n        \"dtype\": \"number\",\n        \"std\": 0.22196294903322014,\n        \"min\": 0.001,\n        \"max\": 1.488,\n        \"num_unique_values\": 1515,\n        \"samples\": [\n          0.2105,\n          0.0645,\n          0.476\n        ],\n        \"semantic_type\": \"\",\n        \"description\": \"\"\n      }\n    },\n    {\n      \"column\": \"Viscera weight\",\n      \"properties\": {\n        \"dtype\": \"number\",\n        \"std\": 0.10961425025968446,\n        \"min\": 0.0005,\n        \"max\": 0.76,\n        \"num_unique_values\": 880,\n        \"samples\": [\n          0.0645,\n          0.0095,\n          0.1115\n        ],\n        \"semantic_type\": \"\",\n        \"description\": \"\"\n      }\n    },\n    {\n      \"column\": \"Shell weight\",\n      \"properties\": {\n        \"dtype\": \"number\",\n        \"std\": 0.1392026695223861,\n        \"min\": 0.0015,\n        \"max\": 1.005,\n        \"num_unique_values\": 926,\n        \"samples\": [\n          0.3745,\n          0.2825,\n          0.49\n        ],\n        \"semantic_type\": \"\",\n        \"description\": \"\"\n      }\n    },\n    {\n      \"column\": \"Rings\",\n      \"properties\": {\n        \"dtype\": \"number\",\n        \"std\": 3,\n        \"min\": 1,\n        \"max\": 29,\n        \"num_unique_values\": 28,\n        \"samples\": [\n          11,\n          27,\n          14\n        ],\n        \"semantic_type\": \"\",\n        \"description\": \"\"\n      }\n    }\n  ]\n}"
            }
          },
          "metadata": {},
          "execution_count": 15
        }
      ]
    },
    {
      "cell_type": "markdown",
      "source": [
        "### 1. Lo primero que debe hacer es eliminar la variable “Sex”."
      ],
      "metadata": {
        "id": "JtbwV78kRuZi"
      }
    },
    {
      "cell_type": "code",
      "source": [
        "abalone = abalone.drop('Sex', axis=1)\n",
        "print(abalone.head())"
      ],
      "metadata": {
        "colab": {
          "base_uri": "https://localhost:8080/"
        },
        "id": "0pVriuLVRw33",
        "outputId": "97999b05-afef-4c6b-a8a8-ae003d993cdc"
      },
      "execution_count": 16,
      "outputs": [
        {
          "output_type": "stream",
          "name": "stdout",
          "text": [
            "   Length  Diameter  Height  Whole weight  Shucked weight  Viscera weight  \\\n",
            "0   0.455     0.365   0.095        0.5140          0.2245          0.1010   \n",
            "1   0.350     0.265   0.090        0.2255          0.0995          0.0485   \n",
            "2   0.530     0.420   0.135        0.6770          0.2565          0.1415   \n",
            "3   0.440     0.365   0.125        0.5160          0.2155          0.1140   \n",
            "4   0.330     0.255   0.080        0.2050          0.0895          0.0395   \n",
            "\n",
            "   Shell weight  Rings  \n",
            "0         0.150     15  \n",
            "1         0.070      7  \n",
            "2         0.210      9  \n",
            "3         0.155     10  \n",
            "4         0.055      7  \n"
          ]
        }
      ]
    },
    {
      "cell_type": "code",
      "source": [
        "# Separar características (X) y la variable objetivo (y)\n",
        "X = abalone.drop(columns=['Rings'])\n",
        "y = abalone['Rings']\n",
        "\n",
        "# Dividir datos en conjunto de entrenamiento y prueba\n",
        "X_train, X_test, y_train, y_test = train_test_split(X, y, test_size=0.2, random_state=42)\n",
        "\n",
        "# Normalizar características\n",
        "scaler = StandardScaler()\n",
        "X_train_scaled = scaler.fit_transform(X_train)\n",
        "X_test_scaled = scaler.transform(X_test)\n",
        "\n",
        "# Entrenar el modelo K-NN\n",
        "k = 5  # Número de vecinos\n",
        "knn_regressor = KNeighborsRegressor(n_neighbors=k)\n",
        "knn_regressor.fit(X_train_scaled, y_train)\n",
        "\n",
        "# Realizar predicciones en el conjunto de prueba\n",
        "y_pred = knn_regressor.predict(X_test_scaled)\n",
        "\n",
        "# Evaluar el modelo\n",
        "mse = mean_squared_error(y_test, y_pred)\n",
        "print(\"Error cuadrático medio (MSE):\", mse)"
      ],
      "metadata": {
        "colab": {
          "base_uri": "https://localhost:8080/"
        },
        "id": "WeL9KqorUR7w",
        "outputId": "5a8298a5-7fcf-4253-c815-e17750b599e6"
      },
      "execution_count": 19,
      "outputs": [
        {
          "output_type": "stream",
          "name": "stdout",
          "text": [
            "Error cuadrático medio (MSE): 5.732009569377991\n"
          ]
        }
      ]
    },
    {
      "cell_type": "markdown",
      "source": [
        "### 2. Realice estadística descriptiva para el conjunto de datos entregados."
      ],
      "metadata": {
        "id": "3h-8KgBMTYqC"
      }
    },
    {
      "cell_type": "code",
      "source": [
        "# Estadísticas descriptivas\n",
        "descriptive_stats = abalone.describe()\n",
        "\n",
        "print(descriptive_stats)"
      ],
      "metadata": {
        "colab": {
          "base_uri": "https://localhost:8080/"
        },
        "id": "xjJsC7UhTqfE",
        "outputId": "6f5484e1-4799-4a1a-b68b-6a3fc554c905"
      },
      "execution_count": 21,
      "outputs": [
        {
          "output_type": "stream",
          "name": "stdout",
          "text": [
            "            Length     Diameter       Height  Whole weight  Shucked weight  \\\n",
            "count  4177.000000  4177.000000  4177.000000   4177.000000     4177.000000   \n",
            "mean      0.523992     0.407881     0.139516      0.828742        0.359367   \n",
            "std       0.120093     0.099240     0.041827      0.490389        0.221963   \n",
            "min       0.075000     0.055000     0.000000      0.002000        0.001000   \n",
            "25%       0.450000     0.350000     0.115000      0.441500        0.186000   \n",
            "50%       0.545000     0.425000     0.140000      0.799500        0.336000   \n",
            "75%       0.615000     0.480000     0.165000      1.153000        0.502000   \n",
            "max       0.815000     0.650000     1.130000      2.825500        1.488000   \n",
            "\n",
            "       Viscera weight  Shell weight        Rings  \n",
            "count     4177.000000   4177.000000  4177.000000  \n",
            "mean         0.180594      0.238831     9.933684  \n",
            "std          0.109614      0.139203     3.224169  \n",
            "min          0.000500      0.001500     1.000000  \n",
            "25%          0.093500      0.130000     8.000000  \n",
            "50%          0.171000      0.234000     9.000000  \n",
            "75%          0.253000      0.329000    11.000000  \n",
            "max          0.760000      1.005000    29.000000  \n"
          ]
        }
      ]
    },
    {
      "cell_type": "markdown",
      "source": [
        "### 3. La variable objetivo es “Rings”, por lo que muestre la distribución de estos datos e interprete."
      ],
      "metadata": {
        "id": "LPPmBwVVWqjj"
      }
    },
    {
      "cell_type": "code",
      "source": [
        "# Graficar histograma de la variable objetivo 'Rings'\n",
        "plt.figure(figsize=(8, 6))\n",
        "plt.hist(abalone['Rings'], bins=range(min(abalone['Rings']), max(abalone['Rings']) + 1), edgecolor='black')\n",
        "plt.xlabel('Rings')\n",
        "plt.ylabel('Frequency')\n",
        "plt.title('Distribution of Rings')\n",
        "plt.grid(True)\n",
        "plt.show()"
      ],
      "metadata": {
        "colab": {
          "base_uri": "https://localhost:8080/",
          "height": 564
        },
        "id": "vmyjfWW3WwLg",
        "outputId": "460dbe81-eea4-404b-d2fc-92e762953485"
      },
      "execution_count": 23,
      "outputs": [
        {
          "output_type": "display_data",
          "data": {
            "text/plain": [
              "<Figure size 800x600 with 1 Axes>"
            ],
            "image/png": "[encoded data removed]"
          },
          "metadata": {}
        }
      ]
    },
    {
      "cell_type": "markdown",
      "source": [
        "Interpretación:\n",
        "\n",
        "El histograma muestra la distribución de la variable objetivo \"Rings\". Cada barra representa un rango de valores de anillos y la altura de la barra indica la frecuencia con la que aparecen esos valores en el conjunto de datos. Aquí algunas interpretaciones posibles:\n",
        "\n",
        "La distribución parece ser asimétrica, con una cola hacia la derecha. Esto sugiere que hay más abulones con un menor número de anillos que con un número mayor.\n",
        "La mayoría de los abulones parecen tener entre aproximadamente 5 y 15 anillos, con un pico en algún lugar dentro de ese rango.\n",
        "Hay relativamente pocos abulones con un número muy bajo o muy alto de anillos, como lo indica la disminución en la frecuencia en los extremos del histograma.\n",
        "Esta visualización te proporciona una idea clara de la distribución de la variable objetivo \"Rings\" en el conjunto de datos de abulones."
      ],
      "metadata": {
        "id": "QC1nfLRXXqn9"
      }
    },
    {
      "cell_type": "markdown",
      "source": [
        "### 4. Entregue la matriz de correlación ¿Qué variables pueden estar correlacionadas?"
      ],
      "metadata": {
        "id": "DzoEFOPoXwpp"
      }
    },
    {
      "cell_type": "code",
      "source": [
        "# Calcular la matriz de correlación\n",
        "correlation_matrix = abalone.corr()\n",
        "\n",
        "print(\"Matriz de correlación:\")\n",
        "print(correlation_matrix)"
      ],
      "metadata": {
        "colab": {
          "base_uri": "https://localhost:8080/"
        },
        "id": "SmBFWMS2X2Mx",
        "outputId": "419d650d-c878-4c1c-eb18-adeea6834fab"
      },
      "execution_count": 24,
      "outputs": [
        {
          "output_type": "stream",
          "name": "stdout",
          "text": [
            "Matriz de correlación:\n",
            "                  Length  Diameter    Height  Whole weight  Shucked weight  \\\n",
            "Length          1.000000  0.986812  0.827554      0.925261        0.897914   \n",
            "Diameter        0.986812  1.000000  0.833684      0.925452        0.893162   \n",
            "Height          0.827554  0.833684  1.000000      0.819221        0.774972   \n",
            "Whole weight    0.925261  0.925452  0.819221      1.000000        0.969405   \n",
            "Shucked weight  0.897914  0.893162  0.774972      0.969405        1.000000   \n",
            "Viscera weight  0.903018  0.899724  0.798319      0.966375        0.931961   \n",
            "Shell weight    0.897706  0.905330  0.817338      0.955355        0.882617   \n",
            "Rings           0.556720  0.574660  0.557467      0.540390        0.420884   \n",
            "\n",
            "                Viscera weight  Shell weight     Rings  \n",
            "Length                0.903018      0.897706  0.556720  \n",
            "Diameter              0.899724      0.905330  0.574660  \n",
            "Height                0.798319      0.817338  0.557467  \n",
            "Whole weight          0.966375      0.955355  0.540390  \n",
            "Shucked weight        0.931961      0.882617  0.420884  \n",
            "Viscera weight        1.000000      0.907656  0.503819  \n",
            "Shell weight          0.907656      1.000000  0.627574  \n",
            "Rings                 0.503819      0.627574  1.000000  \n"
          ]
        }
      ]
    },
    {
      "cell_type": "code",
      "source": [
        "#Mostarmos el gráfico de la matriz de correlación\n",
        "sns.heatmap(abalone.corr(), annot=True)\n",
        "plt.show()"
      ],
      "metadata": {
        "colab": {
          "base_uri": "https://localhost:8080/",
          "height": 531
        },
        "id": "1HYpfBnkYXfE",
        "outputId": "e083b3bb-0bac-4aee-cb71-d78aaa28e97c"
      },
      "execution_count": 26,
      "outputs": [
        {
          "output_type": "display_data",
          "data": {
            "text/plain": [
              "<Figure size 640x480 with 2 Axes>"
            ],
            "image/png": "[encoded data removed]"
          },
          "metadata": {}
        }
      ]
    },
    {
      "cell_type": "markdown",
      "source": [
        "Esta matriz de correlación te mostrará el grado de asociación lineal entre cada par de variables en el conjunto de datos. Los valores pueden variar entre -1 y 1, donde:\n",
        "\n",
        "1 indica una correlación positiva perfecta,\n",
        "-1 indica una correlación negativa perfecta, y\n",
        "0 indica que no hay correlación lineal.\n",
        "Para identificar qué variables pueden estar correlacionadas, busca valores cercanos a 1 o -1 en la matriz de correlación. Las variables con valores altos (cercanos a 1 o -1) están altamente correlacionadas entre sí. Por otro lado, las variables con valores cercanos a 0 no están correlacionadas.\n",
        "\n",
        "Algunas variables que podrían estar correlacionadas podrían ser:\n",
        "\n",
        "-- \"Length\" y \"Diameter\": Dado que ambas medidas están relacionadas con las dimensiones físicas del abulón, es razonable esperar una alta correlación entre ellas.\n",
        "\n",
        "-- \"Whole weight\" y \"Shucked weight\", \"Viscera weight\", \"Shell weight\": Estas variables están relacionadas con el peso del abulón y podrían mostrar correlaciones positivas entre sí.\n",
        "\n",
        "-- \"Length\" y \"Rings\": Es posible que el tamaño del abulón esté relacionado con su edad, por lo que podría haber una correlación entre la longitud y el número de anillos.\n",
        "\n",
        "Sin embargo, es importante tener en cuenta que la correlación no implica causalidad. Es decir, solo porque dos variables estén correlacionadas, no significa necesariamente que una cause la otra. Es necesario realizar análisis adicionales para determinar la naturaleza exacta de la relación entre las variables."
      ],
      "metadata": {
        "id": "PyqUFjO8Ytmu"
      }
    },
    {
      "cell_type": "markdown",
      "source": [
        "### 5. Defina las distancias en los vectores de las variables independientes. Para esto puede usar el atributo .values de Numpy"
      ],
      "metadata": {
        "id": "yvwbJKXjYu2w"
      }
    },
    {
      "cell_type": "code",
      "source": [
        "from scipy.spatial.distance import pdist, squareform\n",
        "\n",
        "# Seleccionar las columnas de las variables independientes y convertirlas a una matriz de numpy\n",
        "X = abalone.drop('Rings', axis=1).values\n",
        "\n",
        "# Calcular las distancias entre los vectores de las variables independientes\n",
        "distances = pdist(X, metric='euclidean')  # Puedes cambiar la métrica si lo deseas\n",
        "\n",
        "# Convertir el vector de distancias a una matriz cuadrada\n",
        "dist_matrix = squareform(distances)\n",
        "\n",
        "# Mostrar la matriz de distancias\n",
        "print(dist_matrix)\n"
      ],
      "metadata": {
        "colab": {
          "base_uri": "https://localhost:8080/"
        },
        "id": "cYMAD1NUa8j3",
        "outputId": "6d6a5460-0500-4c50-96bd-126fcbedd3b1"
      },
      "execution_count": 30,
      "outputs": [
        {
          "output_type": "stream",
          "name": "stdout",
          "text": [
            "[[0.         0.35925409 0.20756505 ... 0.79612578 0.72399137 1.6981406 ]\n",
            " [0.35925409 0.         0.56142698 ... 1.14826663 1.07944917 2.04875059]\n",
            " [0.20756505 0.56142698 0.         ... 0.60424085 0.53367382 1.51066484]\n",
            " ...\n",
            " [0.79612578 1.14826663 0.60424085 ... 0.         0.10615437 0.91358976]\n",
            " [0.72399137 1.07944917 0.53367382 ... 0.10615437 0.         0.98398044]\n",
            " [1.6981406  2.04875059 1.51066484 ... 0.91358976 0.98398044 0.        ]]\n"
          ]
        }
      ]
    },
    {
      "cell_type": "markdown",
      "source": [
        "### 6. Guarde los datos en una matriz y úselo en este código:\n",
        "\n",
        "distances = np.linalg.norm(X - new_data_point, axis=1)"
      ],
      "metadata": {
        "id": "kfcb7B6gblIG"
      }
    },
    {
      "cell_type": "code",
      "source": [
        "# Definir new_data_point. Debe ser un vector con la misma longitud que los vectores en X\n",
        "new_data_point = np.array([0.5, 0.4, 0.3, 0.2, 0.1, 0.2, 0.3])\n",
        "\n",
        "# Calcular las distancias entre new_data_point y todos los vectores en X\n",
        "distances = np.linalg.norm(X - new_data_point, axis=1)\n",
        "\n",
        "print(\"Distancias:\", distances)"
      ],
      "metadata": {
        "colab": {
          "base_uri": "https://localhost:8080/"
        },
        "id": "ETx-UxEZcEG9",
        "outputId": "092f488c-0b74-4775-9980-cb917e81a5ca"
      },
      "execution_count": 42,
      "outputs": [
        {
          "output_type": "stream",
          "name": "stdout",
          "text": [
            "Distancias: [0.43780389 0.40165626 0.54043362 ... 1.07981318 1.01733881 1.98001256]\n"
          ]
        }
      ]
    },
    {
      "cell_type": "markdown",
      "source": [
        "### 7. Determine cuáles son los tres vecinos más cercanos."
      ],
      "metadata": {
        "id": "_M-Og_AMfXGS"
      }
    },
    {
      "cell_type": "code",
      "source": [
        "# Obtener los índices que ordenarían el array de distancias\n",
        "indices = np.argsort(distances)\n",
        "\n",
        "# Seleccionar los índices de las tres distancias más pequeñas\n",
        "three_closest_indices = indices[:3]\n",
        "\n",
        "print(\"Los tres vecinos más cercanos son los vectores en los índices:\", three_closest_indices)"
      ],
      "metadata": {
        "colab": {
          "base_uri": "https://localhost:8080/"
        },
        "id": "92fba9xQfnhu",
        "outputId": "e7cc9212-6aaa-49e1-efeb-8e14220ac233"
      },
      "execution_count": 43,
      "outputs": [
        {
          "output_type": "stream",
          "name": "stdout",
          "text": [
            "Los tres vecinos más cercanos son los vectores en los índices: [2641 1252  801]\n"
          ]
        }
      ]
    }
  ]
}