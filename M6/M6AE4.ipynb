{
  "nbformat": 4,
  "nbformat_minor": 0,
  "metadata": {
    "colab": {
      "provenance": []
    },
    "kernelspec": {
      "name": "python3",
      "display_name": "Python 3"
    },
    "language_info": {
      "name": "python"
    }
  },
  "cells": [
    {
      "cell_type": "markdown",
      "source": [
        "**Ejercicios Planteados**"
      ],
      "metadata": {
        "id": "tvMcl42q-PhH"
      }
    },
    {
      "cell_type": "markdown",
      "source": [
        "La base de datos House_price.csv contiene información de casas. La idea es obtener un modelo que permita predecir el valor de venta de una casa. Las variables son las siguientes:\n",
        "\n",
        "• LotFrontage: Pies lineales de calle conectados a la propiedad\n",
        "\n",
        "• LotArea: Tamaño del lote en pies cuadrados\n",
        "\n",
        "• MasVnrArea: Área de revestimiento de mampostería en pies cuadrados\n",
        "\n",
        "• BsmtFinSF1: Pies cuadrados del sótano terminados tipo 1\n",
        "\n",
        "• BsmtFinSF2: Pies cuadrados con del sótano acabados tipo 2\n",
        "\n",
        "• BsmtUnfSF: Pies cuadrados sin terminar de área del sótano\n",
        "\n",
        "• TotalBsmtSF: Total de pies cuadrados de área del sótano\n",
        "\n",
        "• 1stFlrSF: Pies cuadrados del primer piso\n",
        "\n",
        "• 2ndFlrSF: Pies cuadrados del segundo piso\n",
        "\n",
        "• LowQualFinSF: Pies cuadrados con acabado de baja calidad (todos los pisos)\n",
        "\n",
        "• GrLivArea: Pies cuadrados de área habitable sobre el nivel (suelo)\n",
        "\n",
        "• GarageArea: Tamaño del garaje en pies cuadrados\n",
        "\n",
        "• WoodDeckSF: Área de la plataforma de madera en pies cuadrados\n",
        "\n",
        "• OpenPorchSF: Área del porche abierto en pies cuadrados\n",
        "\n",
        "• EnclosedPorch: Área del porche cerrado en pies cuadrados\n",
        "\n",
        "• 3SsnPorch: área de porche de tres estaciones en pies cuadrados\n",
        "\n",
        "• ScreenPorch: Área del porche de la pantalla en pies cuadrados\n",
        "\n",
        "• PoolArea: Área de la piscina en pies cuadrados\n",
        "\n",
        "• MiscVal: Valor de la función miscelánea\n",
        "\n",
        "• SalePrice: el precio de venta de la propiedad en dólares. Esta es la variable objetivo que se quiere modelar.\n"
      ],
      "metadata": {
        "id": "xOtcSTlu-Rpm"
      }
    },
    {
      "cell_type": "code",
      "source": [
        "import pandas as pd\n",
        "import numpy as np\n",
        "from sklearn.model_selection import train_test_split\n",
        "from sklearn.linear_model import LinearRegression\n",
        "from sklearn.preprocessing import StandardScaler\n",
        "from sklearn.decomposition import PCA\n",
        "from datetime import datetime"
      ],
      "metadata": {
        "id": "NpJSxTsF--me"
      },
      "execution_count": 8,
      "outputs": []
    },
    {
      "cell_type": "markdown",
      "source": [
        "### a) Cargue la base de datos, ¿hay alguna columna que no sea útil para el análisis? Revise si existen casos faltantes en la base de datos, según la descripción de las variables, ¿qué pudiera significar un NA? Tome decisiones de qué hacer si existen casos faltantes. Si desea imputar los valores nulos de alguna variable por un valor puede utilizar data[\"columna\"].fillna('valor', inplace = True)."
      ],
      "metadata": {
        "id": "-04LH13k-vEM"
      }
    },
    {
      "cell_type": "code",
      "execution_count": 9,
      "metadata": {
        "colab": {
          "base_uri": "https://localhost:8080/"
        },
        "id": "rBgHwtyA-NGj",
        "outputId": "a60b4ef4-04ca-4636-d2ce-7a3a84439f98"
      },
      "outputs": [
        {
          "output_type": "stream",
          "name": "stdout",
          "text": [
            "   Id  LotFrontage  LotArea  MasVnrArea  BsmtFinSF1  BsmtFinSF2  BsmtUnfSF  \\\n",
            "0   1         65.0     8450       196.0         706           0        150   \n",
            "1   2         80.0     9600         0.0         978           0        284   \n",
            "2   3         68.0    11250       162.0         486           0        434   \n",
            "3   4         60.0     9550         0.0         216           0        540   \n",
            "4   5         84.0    14260       350.0         655           0        490   \n",
            "\n",
            "   TotalBsmtSF  1stFlrSF  2ndFlrSF  ...  GrLivArea  GarageArea  WoodDeckSF  \\\n",
            "0          856       856       854  ...       1710         548           0   \n",
            "1         1262      1262         0  ...       1262         460         298   \n",
            "2          920       920       866  ...       1786         608           0   \n",
            "3          756       961       756  ...       1717         642           0   \n",
            "4         1145      1145      1053  ...       2198         836         192   \n",
            "\n",
            "   OpenPorchSF  EnclosedPorch  3SsnPorch  ScreenPorch  PoolArea  MiscVal  \\\n",
            "0           61              0          0            0         0        0   \n",
            "1            0              0          0            0         0        0   \n",
            "2           42              0          0            0         0        0   \n",
            "3           35            272          0            0         0        0   \n",
            "4           84              0          0            0         0        0   \n",
            "\n",
            "   SalePrice  \n",
            "0     208500  \n",
            "1     181500  \n",
            "2     223500  \n",
            "3     140000  \n",
            "4     250000  \n",
            "\n",
            "[5 rows x 21 columns]\n",
            "Id                 0\n",
            "LotFrontage      259\n",
            "LotArea            0\n",
            "MasVnrArea         8\n",
            "BsmtFinSF1         0\n",
            "BsmtFinSF2         0\n",
            "BsmtUnfSF          0\n",
            "TotalBsmtSF        0\n",
            "1stFlrSF           0\n",
            "2ndFlrSF           0\n",
            "LowQualFinSF       0\n",
            "GrLivArea          0\n",
            "GarageArea         0\n",
            "WoodDeckSF         0\n",
            "OpenPorchSF        0\n",
            "EnclosedPorch      0\n",
            "3SsnPorch          0\n",
            "ScreenPorch        0\n",
            "PoolArea           0\n",
            "MiscVal            0\n",
            "SalePrice          0\n",
            "dtype: int64\n"
          ]
        }
      ],
      "source": [
        "#ruta del data\n",
        "house_price = \"house_price.csv\"\n",
        "\n",
        "# Cargar la base de datos\n",
        "data = pd.read_csv(house_price, delimiter=';')\n",
        "\n",
        "# Imprimir las primeras filas para ver qué columnas hay\n",
        "print(data.head())\n",
        "\n",
        "# Verificar si existen casos faltantes\n",
        "print(data.isnull().sum())\n",
        "\n",
        "# Eliminar la columna \"Id\" (no útil para el análisis)\n",
        "data.drop(columns=[\"Id\"], inplace=True)\n",
        "\n",
        "# Tratar valores faltantes (NA)\n",
        "# Imputar los valores nulos en todas las columnas con un valor específico (por ejemplo, \"valor\")\n",
        "data = data.apply(lambda x: x.fillna(x.mean()) if x.dtype.kind in 'biufc' else x.fillna('valor'))"
      ]
    },
    {
      "cell_type": "markdown",
      "source": [
        "### b) La variable a modelar corresponde al precio de venta de la casa en dólares. En base a los modelos que hemos aprendido en clases, ¿qué modelo(s) podría(n) ser de utilidad para predecir el precio de venta de casas mediante las variables predictoras?"
      ],
      "metadata": {
        "id": "n5mMhmcJ_O4O"
      }
    },
    {
      "cell_type": "markdown",
      "source": [
        "Como buscamos anticipar el precio de venta de viviendas, resulta idóneo emplear modelos de regresión. Entre las opciones útiles se incluyen: regresión lineal, regresión Ridge, regresión Lasso y regresión de árboles (como Random Forest)."
      ],
      "metadata": {
        "id": "0Y3WcoQI_kwe"
      }
    },
    {
      "cell_type": "markdown",
      "source": [
        "### c) Vamos a implementar un modelo de regresión lineal para modelar el precio de venta de casas. Considerando que en la base de datos tenemos varias variables que dependen de otras, ¿cuál pudiera ser el problema que surgiría en este contexto? ¿por qué esto es un problema? Discuta."
      ],
      "metadata": {
        "id": "FhYsqupM_l93"
      }
    },
    {
      "cell_type": "markdown",
      "source": [
        "En este caso podría surgir en este contexto un problema de dependencia entre variables.\n",
        "\n",
        "La multicolinealidad entre las variables predictoras plantea un desafío en el análisis de regresión, surgiendo cuando dos o más variables independientes muestran una correlación significativa entre sí. Algunos aspectos fundamentales de este problema incluyen:\n",
        "\n",
        "Interpretación de Coeficientes: En un modelo de regresión lineal, los coeficientes indican el cambio en la variable dependiente (como el precio de venta) por cada unidad de cambio en una variable independiente. Sin embargo, cuando dos variables predictoras están altamente correlacionadas, resulta complicado discernir cuál de ellas está ejerciendo realmente influencia sobre la variable objetivo.\n",
        "Inestabilidad de Coeficientes: La presencia de multicolinealidad puede generar inestabilidad en los coeficientes del modelo, volviéndolos susceptibles a pequeñas variaciones en los datos. Este fenómeno dificulta tanto la interpretación como la fiabilidad del modelo."
      ],
      "metadata": {
        "id": "DxdPpoap_85Y"
      }
    },
    {
      "cell_type": "markdown",
      "source": [
        "### d) Realice un análisis de la correlación entre las variables. Comente, ¿existen variables muy correlacionadas entre sí? ¿Por qué cree que ocurre?"
      ],
      "metadata": {
        "id": "q8Z5IFHwAMpL"
      }
    },
    {
      "cell_type": "code",
      "source": [
        "# Calcular la matriz de correlación\n",
        "correlation_matrix = data.corr()\n",
        "\n",
        "# Filtrar las correlaciones fuertes (mayores que 0.7 o menores que -0.7)\n",
        "strong_correlations = correlation_matrix[(correlation_matrix > 0.7) | (correlation_matrix < -0.7)]\n",
        "\n",
        "# Imprimir las correlaciones fuertes\n",
        "print(strong_correlations)"
      ],
      "metadata": {
        "colab": {
          "base_uri": "https://localhost:8080/"
        },
        "id": "RjvH8HJDARkw",
        "outputId": "43c03324-7344-42f9-f262-4736dd071b87"
      },
      "execution_count": 10,
      "outputs": [
        {
          "output_type": "stream",
          "name": "stdout",
          "text": [
            "               LotFrontage  LotArea  MasVnrArea  BsmtFinSF1  BsmtFinSF2  \\\n",
            "LotFrontage            1.0      NaN         NaN         NaN         NaN   \n",
            "LotArea                NaN      1.0         NaN         NaN         NaN   \n",
            "MasVnrArea             NaN      NaN         1.0         NaN         NaN   \n",
            "BsmtFinSF1             NaN      NaN         NaN         1.0         NaN   \n",
            "BsmtFinSF2             NaN      NaN         NaN         NaN         1.0   \n",
            "BsmtUnfSF              NaN      NaN         NaN         NaN         NaN   \n",
            "TotalBsmtSF            NaN      NaN         NaN         NaN         NaN   \n",
            "1stFlrSF               NaN      NaN         NaN         NaN         NaN   \n",
            "2ndFlrSF               NaN      NaN         NaN         NaN         NaN   \n",
            "LowQualFinSF           NaN      NaN         NaN         NaN         NaN   \n",
            "GrLivArea              NaN      NaN         NaN         NaN         NaN   \n",
            "GarageArea             NaN      NaN         NaN         NaN         NaN   \n",
            "WoodDeckSF             NaN      NaN         NaN         NaN         NaN   \n",
            "OpenPorchSF            NaN      NaN         NaN         NaN         NaN   \n",
            "EnclosedPorch          NaN      NaN         NaN         NaN         NaN   \n",
            "3SsnPorch              NaN      NaN         NaN         NaN         NaN   \n",
            "ScreenPorch            NaN      NaN         NaN         NaN         NaN   \n",
            "PoolArea               NaN      NaN         NaN         NaN         NaN   \n",
            "MiscVal                NaN      NaN         NaN         NaN         NaN   \n",
            "SalePrice              NaN      NaN         NaN         NaN         NaN   \n",
            "\n",
            "               BsmtUnfSF  TotalBsmtSF  1stFlrSF  2ndFlrSF  LowQualFinSF  \\\n",
            "LotFrontage          NaN          NaN       NaN       NaN           NaN   \n",
            "LotArea              NaN          NaN       NaN       NaN           NaN   \n",
            "MasVnrArea           NaN          NaN       NaN       NaN           NaN   \n",
            "BsmtFinSF1           NaN          NaN       NaN       NaN           NaN   \n",
            "BsmtFinSF2           NaN          NaN       NaN       NaN           NaN   \n",
            "BsmtUnfSF            1.0          NaN       NaN       NaN           NaN   \n",
            "TotalBsmtSF          NaN      1.00000   0.81953       NaN           NaN   \n",
            "1stFlrSF             NaN      0.81953   1.00000       NaN           NaN   \n",
            "2ndFlrSF             NaN          NaN       NaN       1.0           NaN   \n",
            "LowQualFinSF         NaN          NaN       NaN       NaN           1.0   \n",
            "GrLivArea            NaN          NaN       NaN       NaN           NaN   \n",
            "GarageArea           NaN          NaN       NaN       NaN           NaN   \n",
            "WoodDeckSF           NaN          NaN       NaN       NaN           NaN   \n",
            "OpenPorchSF          NaN          NaN       NaN       NaN           NaN   \n",
            "EnclosedPorch        NaN          NaN       NaN       NaN           NaN   \n",
            "3SsnPorch            NaN          NaN       NaN       NaN           NaN   \n",
            "ScreenPorch          NaN          NaN       NaN       NaN           NaN   \n",
            "PoolArea             NaN          NaN       NaN       NaN           NaN   \n",
            "MiscVal              NaN          NaN       NaN       NaN           NaN   \n",
            "SalePrice            NaN          NaN       NaN       NaN           NaN   \n",
            "\n",
            "               GrLivArea  GarageArea  WoodDeckSF  OpenPorchSF  EnclosedPorch  \\\n",
            "LotFrontage          NaN         NaN         NaN          NaN            NaN   \n",
            "LotArea              NaN         NaN         NaN          NaN            NaN   \n",
            "MasVnrArea           NaN         NaN         NaN          NaN            NaN   \n",
            "BsmtFinSF1           NaN         NaN         NaN          NaN            NaN   \n",
            "BsmtFinSF2           NaN         NaN         NaN          NaN            NaN   \n",
            "BsmtUnfSF            NaN         NaN         NaN          NaN            NaN   \n",
            "TotalBsmtSF          NaN         NaN         NaN          NaN            NaN   \n",
            "1stFlrSF             NaN         NaN         NaN          NaN            NaN   \n",
            "2ndFlrSF             NaN         NaN         NaN          NaN            NaN   \n",
            "LowQualFinSF         NaN         NaN         NaN          NaN            NaN   \n",
            "GrLivArea       1.000000         NaN         NaN          NaN            NaN   \n",
            "GarageArea           NaN         1.0         NaN          NaN            NaN   \n",
            "WoodDeckSF           NaN         NaN         1.0          NaN            NaN   \n",
            "OpenPorchSF          NaN         NaN         NaN          1.0            NaN   \n",
            "EnclosedPorch        NaN         NaN         NaN          NaN            1.0   \n",
            "3SsnPorch            NaN         NaN         NaN          NaN            NaN   \n",
            "ScreenPorch          NaN         NaN         NaN          NaN            NaN   \n",
            "PoolArea             NaN         NaN         NaN          NaN            NaN   \n",
            "MiscVal              NaN         NaN         NaN          NaN            NaN   \n",
            "SalePrice       0.708624         NaN         NaN          NaN            NaN   \n",
            "\n",
            "               3SsnPorch  ScreenPorch  PoolArea  MiscVal  SalePrice  \n",
            "LotFrontage          NaN          NaN       NaN      NaN        NaN  \n",
            "LotArea              NaN          NaN       NaN      NaN        NaN  \n",
            "MasVnrArea           NaN          NaN       NaN      NaN        NaN  \n",
            "BsmtFinSF1           NaN          NaN       NaN      NaN        NaN  \n",
            "BsmtFinSF2           NaN          NaN       NaN      NaN        NaN  \n",
            "BsmtUnfSF            NaN          NaN       NaN      NaN        NaN  \n",
            "TotalBsmtSF          NaN          NaN       NaN      NaN        NaN  \n",
            "1stFlrSF             NaN          NaN       NaN      NaN        NaN  \n",
            "2ndFlrSF             NaN          NaN       NaN      NaN        NaN  \n",
            "LowQualFinSF         NaN          NaN       NaN      NaN        NaN  \n",
            "GrLivArea            NaN          NaN       NaN      NaN   0.708624  \n",
            "GarageArea           NaN          NaN       NaN      NaN        NaN  \n",
            "WoodDeckSF           NaN          NaN       NaN      NaN        NaN  \n",
            "OpenPorchSF          NaN          NaN       NaN      NaN        NaN  \n",
            "EnclosedPorch        NaN          NaN       NaN      NaN        NaN  \n",
            "3SsnPorch            1.0          NaN       NaN      NaN        NaN  \n",
            "ScreenPorch          NaN          1.0       NaN      NaN        NaN  \n",
            "PoolArea             NaN          NaN       1.0      NaN        NaN  \n",
            "MiscVal              NaN          NaN       NaN      1.0        NaN  \n",
            "SalePrice            NaN          NaN       NaN      NaN   1.000000  \n"
          ]
        }
      ]
    },
    {
      "cell_type": "markdown",
      "source": [
        "TotalBsmtSF y 1stFlrSF presentan una correlación positiva notable de 0.82, lo cual no sorprende dado que el área total del sótano típicamente abarca el espacio del primer piso. En cuanto a GrLivArea y 2ndFlrSF, la correlación positiva de 0.69 refleja la tendencia de que el área habitable sobre el suelo incluya comúnmente el segundo piso. Por último, la sólida correlación positiva de 0.71 entre GrLivArea y SalePrice indica que, en general, las propiedades más espaciosas tienden a tener precios de venta más altos."
      ],
      "metadata": {
        "id": "uR3zlv4NAgFW"
      }
    },
    {
      "cell_type": "markdown",
      "source": [
        "### e) Suponga que este es un problema de gran volumen, donde tenemos muchas columnas y registros. Cuando existen variables muy correlacionadas el costo computacional para obtener el modelo puede ser muy elevado. Obtenga el tiempo de procesamiento para obtener una regresión lineal. Para esto, podemos obtener la regresión lineal utilizando la función LinearRegression de sklearn.linear_model y calcular el tiempo de procesamiento de la siguiente forma:\n",
        "\n",
        "from datetime import datetime\n",
        "start=datetime.now()\n",
        "[aquí va el código del modelo]\n",
        "print(datetime.now()-start) #esto entrega el tiempo que demoró\n",
        "en correr el modelo.\n"
      ],
      "metadata": {
        "id": "l9IZ9mhzAhMy"
      }
    },
    {
      "cell_type": "code",
      "source": [
        "# Separar variables predictoras (X) y variable objetivo (y)\n",
        "X = data.drop(columns=[\"SalePrice\"])\n",
        "y = data[\"SalePrice\"]\n",
        "\n",
        "# Dividir los datos en conjuntos de entrenamiento y prueba\n",
        "X_train, X_test, y_train, y_test = train_test_split(X, y, test_size=0.2, random_state=42)\n",
        "\n",
        "# Estandarizar las variables\n",
        "scaler = StandardScaler()\n",
        "X_train_scaled = scaler.fit_transform(X_train)\n",
        "X_test_scaled = scaler.transform(X_test)\n",
        "\n",
        "# Obtener el tiempo de procesamiento para la regresión lineal\n",
        "start = datetime.now()\n",
        "regression_model = LinearRegression()\n",
        "regression_model.fit(X_train_scaled, y_train)\n",
        "print(\"Tiempo de procesamiento para la regresión lineal:\", datetime.now() - start)"
      ],
      "metadata": {
        "colab": {
          "base_uri": "https://localhost:8080/"
        },
        "id": "_IzOGb4UAv7W",
        "outputId": "dc2a8edf-40a0-4c95-f261-ae6b04c85b09"
      },
      "execution_count": 11,
      "outputs": [
        {
          "output_type": "stream",
          "name": "stdout",
          "text": [
            "Tiempo de procesamiento para la regresión lineal: 0:00:00.004193\n"
          ]
        }
      ]
    },
    {
      "cell_type": "markdown",
      "source": [
        "### f) Obtenga las componentes principales utilizando las variables estandarizadas, si desea explicar un 80% de la variabilidad, ¿cuántas componentes debería elegir? Argumente."
      ],
      "metadata": {
        "id": "Wrb7PTSHBV5-"
      }
    },
    {
      "cell_type": "code",
      "source": [
        "# Obtener las componentes principales\n",
        "pca = PCA(n_components=0.8)  # Explicar al menos el 80% de la variabilidad\n",
        "X_train_pca = pca.fit_transform(X_train_scaled)"
      ],
      "metadata": {
        "id": "d5MtIRgcBdRX"
      },
      "execution_count": 12,
      "outputs": []
    },
    {
      "cell_type": "markdown",
      "source": [
        "### g) Corra el modelo de regresión lineal con las componentes principales como variables predictoras. Vuelva a calcular el tiempo de procesamiento. ¿En cuál caso suele demorarse menos? ¿Qué ganamos al realizar componentes principales? Concluya."
      ],
      "metadata": {
        "id": "1J4-OFrsBnSU"
      }
    },
    {
      "cell_type": "code",
      "source": [
        "# Correr el modelo de regresión lineal con las componentes principales\n",
        "start_pca = datetime.now()\n",
        "regression_model_pca = LinearRegression()\n",
        "regression_model_pca.fit(X_train_pca, y_train)\n",
        "print(\"Tiempo de procesamiento con componentes principales:\", datetime.now() - start_pca)"
      ],
      "metadata": {
        "colab": {
          "base_uri": "https://localhost:8080/"
        },
        "id": "KMHZ0ut_B2dv",
        "outputId": "18ceef53-81df-4ee6-dbe2-cb5c7f283aab"
      },
      "execution_count": 13,
      "outputs": [
        {
          "output_type": "stream",
          "name": "stdout",
          "text": [
            "Tiempo de procesamiento con componentes principales: 0:00:00.003100\n"
          ]
        }
      ]
    },
    {
      "cell_type": "markdown",
      "source": [
        "Reducción de dimensionalidad: Utilizando PCA, podemos disminuir el número de variables originales (dimensiones) en nuestros datos. Al elegir un conjunto reducido de componentes principales, simplificamos el modelo y aumentamos la eficiencia computacional.\n",
        "\n",
        "Eliminación de multicolinealidad: Dado que las componentes principales son ortogonales entre sí, ayudan a mitigar la multicolinealidad entre las variables originales. Esto facilita la interpretación de los coeficientes en los modelos de regresión.\n",
        "\n",
        "Conservación de la variabilidad: A pesar de la reducción de dimensionalidad, el PCA se esfuerza por preservar la mayor parte posible de la variabilidad original en los datos. Al seleccionar un número adecuado de componentes principales, podemos explicar una parte significativa de la variabilidad total.\n",
        "\n",
        "En resumen, mediante el análisis de componentes principales, obtenemos una representación más eficaz de nuestros datos, reduciendo la complejidad mientras mantenemos la información esencial. No obstante, es importante equilibrar este proceso con la cantidad de variabilidad que estamos dispuestos a sacrificar."
      ],
      "metadata": {
        "id": "Jj2WUkrdB_Of"
      }
    }
  ]
}